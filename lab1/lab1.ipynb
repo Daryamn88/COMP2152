{
  "nbformat": 4,
  "nbformat_minor": 0,
  "metadata": {
    "colab": {
      "provenance": []
    },
    "kernelspec": {
      "name": "python3",
      "display_name": "Python 3"
    },
    "language_info": {
      "name": "python"
    }
  },
  "cells": [
    {
      "cell_type": "code",
      "execution_count": 53,
      "metadata": {
        "id": "VExexuNp7Umg"
      },
      "outputs": [],
      "source": [
        "    name = \"Darya\"\n",
        "    Studentnumber = 101394900\n",
        "    right = True"
      ]
    },
    {
      "cell_type": "code",
      "source": [
        "    print(\"A double quoted string value\")\n",
        "    print('A single quoted string value')"
      ],
      "metadata": {
        "colab": {
          "base_uri": "https://localhost:8080/"
        },
        "id": "KebwJPbw7W_e",
        "outputId": "7f77abbf-93b1-41de-bff7-2e2eede036f0"
      },
      "execution_count": 52,
      "outputs": [
        {
          "output_type": "stream",
          "name": "stdout",
          "text": [
            "A double quoted string value\n",
            "A single quoted string value\n"
          ]
        }
      ]
    },
    {
      "cell_type": "code",
      "source": [
        "    str1 = \"A double quoted string value\"\n",
        "    str2 = 'Asingle quoted string value'\n",
        "    print(str1)\n",
        "    print(str2)"
      ],
      "metadata": {
        "colab": {
          "base_uri": "https://localhost:8080/"
        },
        "id": "FdxCZmkp7ddV",
        "outputId": "63007ebb-ad9a-4f9e-db30-d0099e69b698"
      },
      "execution_count": 51,
      "outputs": [
        {
          "output_type": "stream",
          "name": "stdout",
          "text": [
            "A double quoted string value\n",
            "Asingle quoted string value\n"
          ]
        }
      ]
    },
    {
      "cell_type": "code",
      "source": [
        "    print(123)\n",
        "    print(987)"
      ],
      "metadata": {
        "colab": {
          "base_uri": "https://localhost:8080/"
        },
        "id": "_aMkCFYk7f4P",
        "outputId": "de4e9cd8-1deb-4882-aa7f-cce82ae2eaa8"
      },
      "execution_count": 50,
      "outputs": [
        {
          "output_type": "stream",
          "name": "stdout",
          "text": [
            "123\n",
            "987\n"
          ]
        }
      ]
    },
    {
      "cell_type": "code",
      "source": [
        "    num1 = 456\n",
        "    num2 = 279\n",
        "    print(num1)\n",
        "    print(num2)"
      ],
      "metadata": {
        "colab": {
          "base_uri": "https://localhost:8080/"
        },
        "id": "CDVPglXY7kdr",
        "outputId": "89525dd2-2db2-402f-c82c-3f2cd678411a"
      },
      "execution_count": 1,
      "outputs": [
        {
          "output_type": "stream",
          "name": "stdout",
          "text": [
            "456\n",
            "279\n"
          ]
        }
      ]
    },
    {
      "cell_type": "code",
      "source": [
        "    print(12.34)\n",
        "    print(56.78)"
      ],
      "metadata": {
        "colab": {
          "base_uri": "https://localhost:8080/"
        },
        "id": "V4jb4qlG7nTw",
        "outputId": "ba5c1501-8c0a-40cf-b79e-9b62525d09f5"
      },
      "execution_count": 48,
      "outputs": [
        {
          "output_type": "stream",
          "name": "stdout",
          "text": [
            "12.34\n",
            "56.78\n"
          ]
        }
      ]
    },
    {
      "cell_type": "code",
      "source": [
        "    fl_1 = 544.363\n",
        "    fl_2 = 793.42\n",
        "\n",
        "    print(fl_1)\n",
        "    print(fl_2)"
      ],
      "metadata": {
        "colab": {
          "base_uri": "https://localhost:8080/"
        },
        "id": "pXhQGtUt7sgB",
        "outputId": "48645a02-2ec7-47c6-ad09-5288978d94e3"
      },
      "execution_count": 47,
      "outputs": [
        {
          "output_type": "stream",
          "name": "stdout",
          "text": [
            "544.363\n",
            "793.42\n"
          ]
        }
      ]
    },
    {
      "cell_type": "code",
      "source": [
        "print(True)\n",
        "print(False)"
      ],
      "metadata": {
        "id": "sZt4JQCZ7y6k"
      },
      "execution_count": null,
      "outputs": []
    },
    {
      "cell_type": "code",
      "source": [
        "bool_1 = True\n",
        "bool_2 = False\n",
        "print(bool_1)\n",
        "print(bool_2)"
      ],
      "metadata": {
        "colab": {
          "base_uri": "https://localhost:8080/"
        },
        "id": "cUBbPz_H731g",
        "outputId": "70d996a3-4dd7-400c-f568-bb30cab434c0"
      },
      "execution_count": 46,
      "outputs": [
        {
          "output_type": "stream",
          "name": "stdout",
          "text": [
            "True\n",
            "False\n"
          ]
        }
      ]
    },
    {
      "cell_type": "code",
      "source": [
        "print(1+5)"
      ],
      "metadata": {
        "colab": {
          "base_uri": "https://localhost:8080/"
        },
        "id": "zHrGxAF38BNm",
        "outputId": "8bb1d91c-c1d8-458a-b51d-e88c03f92d06"
      },
      "execution_count": 45,
      "outputs": [
        {
          "output_type": "stream",
          "name": "stdout",
          "text": [
            "6\n"
          ]
        }
      ]
    },
    {
      "cell_type": "code",
      "source": [
        "print(10-3)"
      ],
      "metadata": {
        "colab": {
          "base_uri": "https://localhost:8080/"
        },
        "id": "8lS7yCyw8Mcl",
        "outputId": "9effa65f-06d5-40c1-fd48-84190e479026"
      },
      "execution_count": 44,
      "outputs": [
        {
          "output_type": "stream",
          "name": "stdout",
          "text": [
            "7\n"
          ]
        }
      ]
    },
    {
      "cell_type": "code",
      "source": [
        "print(6*3)"
      ],
      "metadata": {
        "colab": {
          "base_uri": "https://localhost:8080/"
        },
        "id": "kRmV5-Am8OhJ",
        "outputId": "5a64fa1b-01c5-4285-aee5-b52c085ff8e7"
      },
      "execution_count": 43,
      "outputs": [
        {
          "output_type": "stream",
          "name": "stdout",
          "text": [
            "18\n"
          ]
        }
      ]
    },
    {
      "cell_type": "code",
      "source": [
        "print(6*3)"
      ],
      "metadata": {
        "colab": {
          "base_uri": "https://localhost:8080/"
        },
        "id": "BqYYAx4J8RXh",
        "outputId": "fcc9ca89-e298-4e57-f997-0648750bdaea"
      },
      "execution_count": 42,
      "outputs": [
        {
          "output_type": "stream",
          "name": "stdout",
          "text": [
            "18\n"
          ]
        }
      ]
    },
    {
      "cell_type": "code",
      "source": [
        "print(9*5)"
      ],
      "metadata": {
        "colab": {
          "base_uri": "https://localhost:8080/"
        },
        "id": "6rwfxjU18UAq",
        "outputId": "8f364040-1c15-4751-b422-27775c503598"
      },
      "execution_count": 41,
      "outputs": [
        {
          "output_type": "stream",
          "name": "stdout",
          "text": [
            "45\n"
          ]
        }
      ]
    },
    {
      "cell_type": "code",
      "source": [
        "print(12/5)"
      ],
      "metadata": {
        "colab": {
          "base_uri": "https://localhost:8080/"
        },
        "id": "cesewuPa8WTY",
        "outputId": "1dac1755-35c1-4e72-b066-3db435e59cd9"
      },
      "execution_count": 40,
      "outputs": [
        {
          "output_type": "stream",
          "name": "stdout",
          "text": [
            "2.4\n"
          ]
        }
      ]
    },
    {
      "cell_type": "code",
      "source": [
        "print(12//5)"
      ],
      "metadata": {
        "colab": {
          "base_uri": "https://localhost:8080/"
        },
        "id": "tTE9Zid-8YVh",
        "outputId": "cb5b84ce-064d-486a-e70d-147350a0ae9e"
      },
      "execution_count": 39,
      "outputs": [
        {
          "output_type": "stream",
          "name": "stdout",
          "text": [
            "2\n"
          ]
        }
      ]
    },
    {
      "cell_type": "code",
      "source": [
        "print(20%3)"
      ],
      "metadata": {
        "colab": {
          "base_uri": "https://localhost:8080/"
        },
        "id": "Y9TcJ2jK8chm",
        "outputId": "d50e622e-a36c-4463-9498-0d12da9c20f7"
      },
      "execution_count": 38,
      "outputs": [
        {
          "output_type": "stream",
          "name": "stdout",
          "text": [
            "2\n"
          ]
        }
      ]
    },
    {
      "cell_type": "code",
      "source": [
        "print(2**4)"
      ],
      "metadata": {
        "colab": {
          "base_uri": "https://localhost:8080/"
        },
        "id": "GkhOnKrG8gZ7",
        "outputId": "a2294989-8048-41ee-d68a-f75c1f638fd8"
      },
      "execution_count": 37,
      "outputs": [
        {
          "output_type": "stream",
          "name": "stdout",
          "text": [
            "16\n"
          ]
        }
      ]
    },
    {
      "cell_type": "code",
      "source": [
        "num1 = 52\n",
        "num2 = 5\n",
        "\n",
        "print(num1 + num2)\n",
        "\n",
        "print(num1 - num2)\n",
        "\n",
        "print(num1 * num2)\n",
        "\n",
        "print(num1 / num2)\n",
        "\n",
        "print(num1 // num2)\n",
        "\n",
        "print(num1 // num2)\n",
        "\n",
        "print(num1 % num2)\n",
        "\n",
        "print(num1 ** num2)"
      ],
      "metadata": {
        "colab": {
          "base_uri": "https://localhost:8080/"
        },
        "id": "KT_8VDjV8iqH",
        "outputId": "feb0ce9b-259e-4d06-c217-b8a161fdd4a7"
      },
      "execution_count": 36,
      "outputs": [
        {
          "output_type": "stream",
          "name": "stdout",
          "text": [
            "57\n",
            "47\n",
            "260\n",
            "10.4\n",
            "10\n",
            "10\n",
            "2\n",
            "380204032\n"
          ]
        }
      ]
    },
    {
      "cell_type": "code",
      "source": [
        "num1 = 12\n",
        "\n",
        "num2 = 4\n",
        "\n",
        "num1+=7\n",
        "\n",
        "print(num1)\n",
        "\n",
        "num1-=num2\n",
        "\n",
        "print(num1)\n",
        "\n",
        "num2*=num1\n",
        "\n",
        "print(num2)"
      ],
      "metadata": {
        "colab": {
          "base_uri": "https://localhost:8080/"
        },
        "id": "IueDkMVw87O3",
        "outputId": "0ef72961-16b7-4310-b7aa-bed94f215b8b"
      },
      "execution_count": 34,
      "outputs": [
        {
          "output_type": "stream",
          "name": "stdout",
          "text": [
            "19\n",
            "15\n",
            "60\n"
          ]
        }
      ]
    },
    {
      "cell_type": "code",
      "source": [
        "a = -12\n",
        "\n",
        "b = 15\n",
        "\n",
        "c = 130\n",
        "\n",
        "d = 75\n",
        "\n",
        "e = (a + b) * c / d\n",
        "e+= ((a + b) * c) / d\n"
      ],
      "metadata": {
        "id": "X-Wc13_e9OdU"
      },
      "execution_count": 33,
      "outputs": []
    },
    {
      "cell_type": "code",
      "source": [
        "print(\"Hello\" + \" \" + \"word\")\n",
        "\n",
        "str1 = \"Hello\"\n",
        "\n",
        "str2 = \"World\"\n",
        "\n",
        "num1 = 5\n",
        "\n",
        "print(str1 + \" \" + str2)\n",
        "\n",
        "print(\"Hello\" + 1)\n",
        "\n",
        "print(str1 + num1)"
      ],
      "metadata": {
        "id": "X4pIkVA89h4p"
      },
      "execution_count": null,
      "outputs": []
    },
    {
      "cell_type": "code",
      "source": [
        "print(\"Hello \"\\\n",
        "     \"There \"\\\n",
        "     \"From \"\\\n",
        "     \"Multiple \"\\\n",
        "     \"Lines\")\n",
        "\n",
        "print(\"Hello \" +\n",
        "      \"There \" +\n",
        "      \"From \" +\n",
        "      \"Multiple \" +\n",
        "      \"Lines\")"
      ],
      "metadata": {
        "colab": {
          "base_uri": "https://localhost:8080/"
        },
        "id": "DE3PepmP93W8",
        "outputId": "df9d72db-7edd-4725-bfec-0cc6973b9330"
      },
      "execution_count": 32,
      "outputs": [
        {
          "output_type": "stream",
          "name": "stdout",
          "text": [
            "Hello There From Multiple Lines\n",
            "Hello There From Multiple Lines\n"
          ]
        }
      ]
    },
    {
      "cell_type": "code",
      "source": [
        "print(\"\\n\")\n",
        "print(\"\\r\")\n",
        "print(\"\\r\")\n",
        "print(\"\\'\")\n",
        "print(\"\\\"\")\n",
        "print(\"\\\\\")\n",
        "#this is a comment"
      ],
      "metadata": {
        "colab": {
          "base_uri": "https://localhost:8080/"
        },
        "id": "OPo88MMD-pXQ",
        "outputId": "c4337e0d-e0dd-4741-96fa-bf7d7914d72f"
      },
      "execution_count": 31,
      "outputs": [
        {
          "output_type": "stream",
          "name": "stdout",
          "text": [
            "\n",
            "\n",
            "\r\n",
            "\r\n",
            "'\n",
            "\"\n",
            "\\\n"
          ]
        }
      ]
    },
    {
      "cell_type": "code",
      "source": [
        "print(\"Hello\", \"World\", \"From\", \"Python\")"
      ],
      "metadata": {
        "colab": {
          "base_uri": "https://localhost:8080/"
        },
        "id": "YdQoxuHM_GUD",
        "outputId": "e27f348b-c382-4062-b72f-3d6a241ba6cc"
      },
      "execution_count": 30,
      "outputs": [
        {
          "output_type": "stream",
          "name": "stdout",
          "text": [
            "Hello World From Python\n"
          ]
        }
      ]
    },
    {
      "cell_type": "code",
      "source": [
        "print(\"Hello\", True, 468, 98.76)"
      ],
      "metadata": {
        "colab": {
          "base_uri": "https://localhost:8080/"
        },
        "id": "eRJd2Uqk_VLI",
        "outputId": "d5d22d13-4ec5-4954-94c6-cc7932782270"
      },
      "execution_count": 29,
      "outputs": [
        {
          "output_type": "stream",
          "name": "stdout",
          "text": [
            "Hello True 468 98.76\n"
          ]
        }
      ]
    },
    {
      "cell_type": "code",
      "source": [
        "print(\"Hello\", \"World\", \"From\", \"Python\", sep='\\t')\n",
        "print(\"Hello\", True, 468, 98.76, sep=\"\\t\")"
      ],
      "metadata": {
        "colab": {
          "base_uri": "https://localhost:8080/"
        },
        "id": "tsOO15FL_cDT",
        "outputId": "4a70964d-3106-41b4-9690-e26cf6af5956"
      },
      "execution_count": 28,
      "outputs": [
        {
          "output_type": "stream",
          "name": "stdout",
          "text": [
            "Hello\tWorld\tFrom\tPython\n",
            "Hello\tTrue\t468\t98.76\n"
          ]
        }
      ]
    },
    {
      "cell_type": "code",
      "source": [
        "print(\"Hello\", \"World\", \"From\", \"Pyhton\", sep='\\t', end='--End--')\n",
        "print(\"Hello\", True, 468, 98.76, sep=\"\\t\", end='--End--')"
      ],
      "metadata": {
        "colab": {
          "base_uri": "https://localhost:8080/"
        },
        "id": "NAX-_jAF_wnF",
        "outputId": "08af9e09-6725-4e34-a408-704099ad7911"
      },
      "execution_count": 27,
      "outputs": [
        {
          "output_type": "stream",
          "name": "stdout",
          "text": [
            "Hello\tWorld\tFrom\tPyhton--End--Hello\tTrue\t468\t98.76--End--"
          ]
        }
      ]
    },
    {
      "cell_type": "code",
      "source": [
        "input()\n",
        "input(\"Enter your name\")\n",
        "input(\"Enter number\")"
      ],
      "metadata": {
        "colab": {
          "base_uri": "https://localhost:8080/",
          "height": 88
        },
        "id": "cAvix5EqABK7",
        "outputId": "d5aeaf47-2059-4489-ddda-9b5732352635"
      },
      "execution_count": 26,
      "outputs": [
        {
          "name": "stdout",
          "output_type": "stream",
          "text": [
            "d\n",
            "Enter your namedarya\n",
            "Enter number12\n"
          ]
        },
        {
          "output_type": "execute_result",
          "data": {
            "text/plain": [
              "'12'"
            ],
            "application/vnd.google.colaboratory.intrinsic+json": {
              "type": "string"
            }
          },
          "metadata": {},
          "execution_count": 26
        }
      ]
    },
    {
      "cell_type": "code",
      "source": [
        "user_input = input()\n",
        "name = input(\"Enter your name\")\n",
        "number = input(\"Enter number\")"
      ],
      "metadata": {
        "id": "N06E7UVPAWrh"
      },
      "execution_count": null,
      "outputs": []
    },
    {
      "cell_type": "code",
      "source": [
        "str_from_number = str(1)\n",
        "str_from_boolean = str(True)\n",
        "str_from_float = str(12.34)\n",
        "float_from_int = float(2)\n",
        "float_from_str = float(\"56.78\")\n",
        "float_from_float = int(123.45)\n",
        "int_from_str_1 = int(\"123\")\n",
        "int_from_str_2 = int(\"123.45\")\n",
        "#throws a value error"
      ],
      "metadata": {
        "colab": {
          "base_uri": "https://localhost:8080/",
          "height": 227
        },
        "id": "UtUemefBAkUN",
        "outputId": "caf726e5-496e-4840-ee20-807e34fb1146"
      },
      "execution_count": 25,
      "outputs": [
        {
          "output_type": "error",
          "ename": "ValueError",
          "evalue": "invalid literal for int() with base 10: '123.45'",
          "traceback": [
            "\u001b[0;31m---------------------------------------------------------------------------\u001b[0m",
            "\u001b[0;31mValueError\u001b[0m                                Traceback (most recent call last)",
            "\u001b[0;32m<ipython-input-25-370a62f5ab0b>\u001b[0m in \u001b[0;36m<cell line: 8>\u001b[0;34m()\u001b[0m\n\u001b[1;32m      6\u001b[0m \u001b[0mfloat_from_float\u001b[0m \u001b[0;34m=\u001b[0m \u001b[0mint\u001b[0m\u001b[0;34m(\u001b[0m\u001b[0;36m123.45\u001b[0m\u001b[0;34m)\u001b[0m\u001b[0;34m\u001b[0m\u001b[0;34m\u001b[0m\u001b[0m\n\u001b[1;32m      7\u001b[0m \u001b[0mint_from_str_1\u001b[0m \u001b[0;34m=\u001b[0m \u001b[0mint\u001b[0m\u001b[0;34m(\u001b[0m\u001b[0;34m\"123\"\u001b[0m\u001b[0;34m)\u001b[0m\u001b[0;34m\u001b[0m\u001b[0;34m\u001b[0m\u001b[0m\n\u001b[0;32m----> 8\u001b[0;31m \u001b[0mint_from_str_2\u001b[0m \u001b[0;34m=\u001b[0m \u001b[0mint\u001b[0m\u001b[0;34m(\u001b[0m\u001b[0;34m\"123.45\"\u001b[0m\u001b[0;34m)\u001b[0m\u001b[0;34m\u001b[0m\u001b[0;34m\u001b[0m\u001b[0m\n\u001b[0m\u001b[1;32m      9\u001b[0m \u001b[0;31m#throws a value error\u001b[0m\u001b[0;34m\u001b[0m\u001b[0;34m\u001b[0m\u001b[0m\n",
            "\u001b[0;31mValueError\u001b[0m: invalid literal for int() with base 10: '123.45'"
          ]
        }
      ]
    },
    {
      "cell_type": "code",
      "source": [
        "print ( round(123.45) )\n",
        "print ( round(123.45, 1) )"
      ],
      "metadata": {
        "id": "yCTC02TaBgmV"
      },
      "execution_count": null,
      "outputs": []
    },
    {
      "cell_type": "code",
      "source": [
        "a = \"Hello World\"\n",
        "print(len(a))"
      ],
      "metadata": {
        "id": "r_Y8g13UBqUG"
      },
      "execution_count": null,
      "outputs": []
    },
    {
      "cell_type": "code",
      "source": [
        "print(\"The price is ${0:7.2f}.\".format(19.9) )"
      ],
      "metadata": {
        "id": "hQIYnoAaB20H"
      },
      "execution_count": null,
      "outputs": []
    },
    {
      "cell_type": "code",
      "source": [
        "print(\"The price is ${val:7.2f}.\".format(val=19.9))"
      ],
      "metadata": {
        "colab": {
          "base_uri": "https://localhost:8080/"
        },
        "id": "OzYll7KpCCcO",
        "outputId": "8125c373-65b3-42dd-f576-3bb91bfc1a41"
      },
      "execution_count": 22,
      "outputs": [
        {
          "output_type": "stream",
          "name": "stdout",
          "text": [
            "The price is $  19.90.\n"
          ]
        }
      ]
    },
    {
      "cell_type": "code",
      "source": [
        "shoes = 2\n",
        "socks = 1.5\n",
        "str1 = \"I have {:d} pairs of shoes and \" \\\n",
        "       \"{:f} pairs of socks\".format(shoes, socks)\n",
        "\n",
        "str2 = \"I have {0:d} pairs of shoes and \" \\\n",
        "       \"{1:f} pairs of socks\".format(shoes, socks)\n",
        "\n",
        "str3 = \"I have {numShoes:d} pairs of shoes and \" \\\n",
        "       \"{numSocks:f} pairs of socks\" \\\n",
        "       .format(numShoes=shoes, numSocks=socks)\n",
        "\n",
        "str4 = \"I have {0:d} pairs of shoes and \" \\\n",
        "       \"{1:.1f} pairs of socks\".format(shoes, socks)\n",
        "\n",
        "str5 = \"I have {numShoes:d} pairs of shoes and \" \\\n",
        "       \"{numSocks:.1f} pairs of socks\" \\\n",
        "       .format(numShoes=shoes, numSocks=socks)\n",
        "\n",
        "str6 = \"I have {:1d} pairs of shoes and \" \\\n",
        "       \"{:8f} pairs of socks\".format(shoes, socks)\n",
        "\n",
        "str7 = \"I have {0:1d} pairs of shoes and \" \\\n",
        "       \"{1:8f} pairs of socks\".format(shoes, socks)\n",
        "\n",
        "str8 = \"I have {numShoes:1d} pairs of shoes and \" \\\n",
        "       \"{numSocks:8f} pairs of socks\" \\\n",
        "       .format(numShoes=shoes, numSocks=socks)\n",
        "\n",
        "str9 = \"I have {:1d} pairs of shoes and \" \\\n",
        "       \"{:8.1f} pairs of socks\".format(shoes, socks)\n",
        "\n",
        "\n",
        "print(str1)\n",
        "print(str2)\n",
        "print(str3)\n",
        "print(str4)\n",
        "print(str5)\n",
        "print()\n",
        "print(str6)\n",
        "print(str7)\n",
        "print(str8)\n",
        "print(str9)"
      ],
      "metadata": {
        "colab": {
          "base_uri": "https://localhost:8080/"
        },
        "id": "IzG7kxKXCbMT",
        "outputId": "3d153c43-a80c-44d9-d75a-1bc2e96486e3"
      },
      "execution_count": 23,
      "outputs": [
        {
          "output_type": "stream",
          "name": "stdout",
          "text": [
            "I have 2 pairs of shoes and 1.500000 pairs of socks\n",
            "I have 2 pairs of shoes and 1.500000 pairs of socks\n",
            "I have 2 pairs of shoes and 1.500000 pairs of socks\n",
            "I have 2 pairs of shoes and 1.5 pairs of socks\n",
            "I have 2 pairs of shoes and 1.5 pairs of socks\n",
            "\n",
            "I have 2 pairs of shoes and 1.500000 pairs of socks\n",
            "I have 2 pairs of shoes and 1.500000 pairs of socks\n",
            "I have 2 pairs of shoes and 1.500000 pairs of socks\n",
            "I have 2 pairs of shoes and      1.5 pairs of socks\n"
          ]
        }
      ]
    },
    {
      "cell_type": "code",
      "source": [
        "print(\"Left Spacing\".rjust(15))"
      ],
      "metadata": {
        "id": "74YAenMHG1iS"
      },
      "execution_count": null,
      "outputs": []
    },
    {
      "cell_type": "code",
      "source": [
        "print(\"Left Spacing\".rjust(15,'*'))"
      ],
      "metadata": {
        "id": "ZqQA-Pc1G9og"
      },
      "execution_count": null,
      "outputs": []
    },
    {
      "cell_type": "code",
      "source": [
        "print( \"Left Spacing\".rjust(15), \"Middle\".ljust(10), \"Right Spacing\".center(17) )\n",
        "\n",
        "print( \"Left Spacing\".rjust(15,'#'), \"Middle\".ljust(10,'|'), \"Right Spacing\".center(17,'*') )"
      ],
      "metadata": {
        "colab": {
          "base_uri": "https://localhost:8080/"
        },
        "id": "O2kYZm5sHKYR",
        "outputId": "d775af85-69f4-4502-8917-69b4082e3407"
      },
      "execution_count": 18,
      "outputs": [
        {
          "output_type": "stream",
          "name": "stdout",
          "text": [
            "   Left Spacing Middle       Right Spacing  \n",
            "###Left Spacing Middle|||| **Right Spacing**\n"
          ]
        }
      ]
    }
  ]
}