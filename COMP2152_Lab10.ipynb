{
  "cells": [
    {
      "cell_type": "markdown",
      "metadata": {
        "id": "view-in-github",
        "colab_type": "text"
      },
      "source": [
        "<a href=\"https://colab.research.google.com/github/Daryamn88/COMP2152/blob/main/COMP2152_Lab10.ipynb\" target=\"_parent\"><img src=\"https://colab.research.google.com/assets/colab-badge.svg\" alt=\"Open In Colab\"/></a>"
      ]
    },
    {
      "cell_type": "markdown",
      "metadata": {
        "id": "3Fd6PTTs1N-h"
      },
      "source": [
        "Create the following classes:\n",
        "\n",
        "\n",
        "*   'Vehicle' class is the base class that includes common properties and methods for all vehicles, such as make, model, year, and start_engine().\n",
        "*   The 'Car' and 'Motorcycle' classes are subclasses that inherit from the Vehicle'' class and add their own unique properties and methods, such as num_doors and num_wheels.\n",
        "*   Each subclass also overrides the start() and stop() method to provide its own implementation.\n",
        "\n"
      ]
    },
    {
      "cell_type": "code",
      "execution_count": null,
      "metadata": {
        "id": "mQ5iTugXLLfG"
      },
      "outputs": [],
      "source": [
        "#Happy Nowruz\n",
        "#https://en.wikipedia.org/wiki/Nowruz\n",
        "# Darya Mansouri 101394900"
      ]
    },
    {
      "cell_type": "markdown",
      "metadata": {
        "id": "kcQcCW_q4he4"
      },
      "source": [
        "# Vehicle Class"
      ]
    },
    {
      "cell_type": "code",
      "execution_count": null,
      "metadata": {
        "id": "fKAocU0p11W2"
      },
      "outputs": [],
      "source": [
        "# define Vehicle class with 3 private properties: make, model, year, is_started\n",
        "# set the default value = 'False' for 'is_started'"
      ]
    },
    {
      "cell_type": "code",
      "execution_count": null,
      "metadata": {
        "id": "TDSIibwJ1NXU"
      },
      "outputs": [],
      "source": [
        "class Vehicle():\n",
        "  def __innnit__(self, make, model, year):\n",
        "    self.__make = make\n",
        "    self.__model = model\n",
        "    self.__year = year\n",
        "    self.__is_started = False"
      ]
    },
    {
      "cell_type": "code",
      "execution_count": null,
      "metadata": {
        "id": "by_LD8ht1_7J"
      },
      "outputs": [],
      "source": [
        "# Add methods to get and set the value of the 'make' property.\n",
        "# Use appropriate decorators for get and set method: @property and @accessor_property_name.setter"
      ]
    },
    {
      "cell_type": "code",
      "source": [
        "class Vehicle():\n",
        "  def __init__(self, make, model, year):\n",
        "    self.__make = make\n",
        "    self.__model = model\n",
        "    self.__year = year\n",
        "    self.__is_started = False\n",
        "\n",
        "  @property\n",
        "  def make(self):\n",
        "    return self.__make\n",
        "\n",
        "  @make.setter\n",
        "  def make(self, value):\n",
        "      self.__make = value\n",
        "  @property\n",
        "  def model(self):\n",
        "    return self.__model\n",
        "\n",
        "  @model.setter\n",
        "  def model(self, value):\n",
        "      self.__model = value\n",
        "\n",
        "  @property\n",
        "  def year(self):\n",
        "    return self.__year\n",
        "\n",
        "  @year.setter\n",
        "  def year(self, value):\n",
        "    self.__year = value\n",
        "\n",
        "my_vehicle = Vehicle(\"BMW\", \"X3\", 2023)\n",
        "print(f'My Vehicles make: {my_vehicle.make}')\n",
        "print(f'My Vehicles model: {my_vehicle.model}')\n",
        "print(f'My Vehicles year: {my_vehicle.year}')\n",
        "\n"
      ],
      "metadata": {
        "colab": {
          "base_uri": "https://localhost:8080/"
        },
        "id": "bvA7Ic_eMrJV",
        "outputId": "ea86bbb8-3e93-454e-aee4-67a52d462414"
      },
      "execution_count": null,
      "outputs": [
        {
          "output_type": "stream",
          "name": "stdout",
          "text": [
            "My Vehicles make: BMW\n",
            "My Vehicles model: X3\n",
            "My Vehicles year: 2023\n"
          ]
        }
      ]
    },
    {
      "cell_type": "code",
      "execution_count": null,
      "metadata": {
        "id": "kECYmCPI2j9H"
      },
      "outputs": [],
      "source": [
        "# Similarly, add get/set methods for 'model' and 'year' property.\n",
        "# Use appropriate decorators."
      ]
    },
    {
      "cell_type": "code",
      "execution_count": null,
      "metadata": {
        "id": "lpKOs18VLLfK"
      },
      "outputs": [],
      "source": [
        "# Add a sub class Car that inherits from Vehicle class."
      ]
    },
    {
      "cell_type": "code",
      "source": [
        "class Car(Vehicle):\n",
        "  def __init__(self, make, model, year, color):\n",
        "    super().__init__(make, model, year)\n",
        "    self.__color = color\n",
        "    self.__type = type\n",
        "  @property\n",
        "  def color(self):\n",
        "    return self.__color\n",
        "  @color.setter\n",
        "  def color(self, value):\n",
        "    self.__colour = value\n",
        "\n",
        "my_car = Car(\"BMW\", \"Z4\", 2023, \"black\")\n",
        "\n",
        "print(f'car_model : {my_car.model}')\n",
        "print(f'car_make : {my_car.make}')\n",
        "print(f'car_year : {my_car.year}')\n",
        "print(f'car_color : {my_car.color}')"
      ],
      "metadata": {
        "colab": {
          "base_uri": "https://localhost:8080/"
        },
        "id": "MDBGO72PMosk",
        "outputId": "852c439e-0f7b-413f-f50d-0911a3a30184"
      },
      "execution_count": null,
      "outputs": [
        {
          "output_type": "stream",
          "name": "stdout",
          "text": [
            "car_model : Z4\n",
            "car_make : BMW\n",
            "car_year : 2023\n",
            "car_color : black\n"
          ]
        }
      ]
    }
  ],
  "metadata": {
    "colab": {
      "provenance": [],
      "include_colab_link": true
    },
    "kernelspec": {
      "display_name": "Python 3",
      "name": "python3"
    },
    "language_info": {
      "name": "python"
    }
  },
  "nbformat": 4,
  "nbformat_minor": 0
}