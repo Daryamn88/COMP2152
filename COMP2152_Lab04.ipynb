{
  "nbformat": 4,
  "nbformat_minor": 0,
  "metadata": {
    "colab": {
      "provenance": [],
      "include_colab_link": true
    },
    "kernelspec": {
      "name": "python3",
      "display_name": "Python 3"
    },
    "language_info": {
      "name": "python"
    }
  },
  "cells": [
    {
      "cell_type": "markdown",
      "metadata": {
        "id": "view-in-github",
        "colab_type": "text"
      },
      "source": [
        "<a href=\"https://colab.research.google.com/github/Daryamn88/COMP2152/blob/main/COMP2152_Lab04.ipynb\" target=\"_parent\"><img src=\"https://colab.research.google.com/assets/colab-badge.svg\" alt=\"Open In Colab\"/></a>"
      ]
    },
    {
      "cell_type": "markdown",
      "source": [
        "# Loop & If-else Statement\n"
      ],
      "metadata": {
        "id": "7_YgQPaICKgO"
      }
    },
    {
      "cell_type": "markdown",
      "source": [
        "In the previous exercise, we have practice using input() to prompt for users input for employee information and allow users to enter and create one single employee. In this lab, we will practice the following:\n",
        "1.   Convert the \"print employees\" and \"create employees\" script to function for reuse purposes\n",
        "2.   Use while loop to allow users to enter and create as many employees as needed until users choose to finish the process\n",
        "3. Use if-else statement to validate users input\n"
      ],
      "metadata": {
        "id": "1_GuE3rpCe5o"
      }
    },
    {
      "cell_type": "code",
      "source": [
        "# initiate an empty employees list"
      ],
      "metadata": {
        "id": "guU7nM9hCRAM"
      },
      "execution_count": null,
      "outputs": []
    },
    {
      "cell_type": "code",
      "source": [
        "employees = []"
      ],
      "metadata": {
        "id": "f3VfxN3kFG5g"
      },
      "execution_count": null,
      "outputs": []
    },
    {
      "cell_type": "code",
      "source": [
        "# add some employees to the list"
      ],
      "metadata": {
        "id": "dTxcJNDIG7ov"
      },
      "execution_count": null,
      "outputs": []
    },
    {
      "cell_type": "code",
      "source": [
        "employees.append([1, \"John\", \"full-time\", 40, 15, \"ON\", 0])\n",
        "employees.append([2, \"Jane\", \"part-time\", 20, 12, \"ON\", 0])"
      ],
      "metadata": {
        "id": "8VOTXd0iHAxx"
      },
      "execution_count": null,
      "outputs": []
    },
    {
      "cell_type": "code",
      "source": [
        "# Please refer to the previous exercise and make a function named print_employees() to print the list of employees along with the headers. Expected outputs:\n",
        "# Employee ID, Employee Name, Employee Type, Hours Worked, Hourly Rate, Location, Salary\n",
        "# 1, John, full-time, 45, 15, ON, 1350\n",
        "# 2, Jane, part-time, 20, 12, ON, 240"
      ],
      "metadata": {
        "id": "iSuAY3EnGcsl"
      },
      "execution_count": null,
      "outputs": []
    },
    {
      "cell_type": "code",
      "source": [
        "def print_employees():\n",
        "  print(\"Employee ID, Employee Name, Employee Type, Hours Worked, Hourly Rate, Location, Salary\")\n",
        "  for employee in employees:\n",
        "    print(str(employee[0]) + \", \" + employee[1] + \", \" + employee[2] + \", \" + str(employee[3])\n",
        "              + \", \" + str(employee[4]) + \", \" + employee[5]+ \", \" + str(employee[6]))"
      ],
      "metadata": {
        "id": "FAbLFZ3pGvhI"
      },
      "execution_count": null,
      "outputs": []
    },
    {
      "cell_type": "code",
      "source": [
        "# Call the print_employees() function to view the list of employees"
      ],
      "metadata": {
        "id": "PAGZXO_LHMt0"
      },
      "execution_count": null,
      "outputs": []
    },
    {
      "cell_type": "code",
      "source": [
        "print_employees()"
      ],
      "metadata": {
        "colab": {
          "base_uri": "https://localhost:8080/"
        },
        "id": "EaAm7HiTHSAi",
        "outputId": "695783bb-6ecc-4242-d6c7-3af7e2a59943"
      },
      "execution_count": null,
      "outputs": [
        {
          "output_type": "stream",
          "name": "stdout",
          "text": [
            "Employee ID, Employee Name, Employee Type, Hours Worked, Hourly Rate, Location, Salary\n",
            "1, John, full-time, 40, 15, ON, 0\n",
            "2, Jane, part-time, 20, 12, ON, 0\n"
          ]
        }
      ]
    },
    {
      "cell_type": "code",
      "source": [
        "# Please refer to the previous exercise and make a function named create_single_employee to ask for users input for employee_id, employee_name, employee_type, employee_hours_worked, employee_hourly_rate, employee_location. Assigning 0 to employee_salary.\n",
        "# Then using append method to add the employee to employees list."
      ],
      "metadata": {
        "id": "ohYAq64eCPB6"
      },
      "execution_count": null,
      "outputs": []
    },
    {
      "cell_type": "code",
      "source": [
        "def create_single_employee():\n",
        "  employee_id = int(input(\"Enter Employee ID: \"))\n",
        "  employee_name = input(\"Enter Employee Name: \")\n",
        "  employee_type = input(\"Enter Employee Type: \")\n",
        "  employee_hours_worked = int(input(\"Enter Employee Total Hours Worked: \"))\n",
        "  employee_hourly_rate = int(input(\"Enter Employee Hourly Rate: \"))\n",
        "  employee_location = input(\"Enter Employee Location: \")\n",
        "  employees.append([employee_id, employee_name, employee_type, employee_hours_worked, employee_hourly_rate, employee_location, 0])\n",
        "  print(\"Employee with ID \" + str(employee_id) + \" is succefully added.\")"
      ],
      "metadata": {
        "id": "GK5NdlSdCQBa"
      },
      "execution_count": null,
      "outputs": []
    },
    {
      "cell_type": "code",
      "source": [
        "# make a function call to create_single_employee"
      ],
      "metadata": {
        "id": "tLMe4W01FAMi"
      },
      "execution_count": null,
      "outputs": []
    },
    {
      "cell_type": "code",
      "source": [
        "create_single_employee()"
      ],
      "metadata": {
        "colab": {
          "base_uri": "https://localhost:8080/"
        },
        "id": "y5ngoCHZFEhn",
        "outputId": "557f16d2-68c5-48fa-a5d5-3cb272159bfe"
      },
      "execution_count": null,
      "outputs": [
        {
          "output_type": "stream",
          "name": "stdout",
          "text": [
            "Enter Employee ID: 2\n",
            "Enter Employee Name: name\n",
            "Enter Employee Type: full-time\n",
            "Enter Employee Total Hours Worked: 2\n",
            "Enter Employee Hourly Rate: 23\n",
            "Enter Employee Location: ON\n",
            "Employee with ID 2 is succefully added.\n"
          ]
        }
      ]
    },
    {
      "cell_type": "code",
      "source": [
        "# make a function call to print_employees() to see the newly added employee"
      ],
      "metadata": {
        "id": "JvUDjs8YGLtU"
      },
      "execution_count": null,
      "outputs": []
    },
    {
      "cell_type": "code",
      "source": [
        "print_employees()"
      ],
      "metadata": {
        "colab": {
          "base_uri": "https://localhost:8080/"
        },
        "id": "VUMubP3mILZv",
        "outputId": "45377c23-1783-4d3b-dcfe-88c6332d255f"
      },
      "execution_count": null,
      "outputs": [
        {
          "output_type": "stream",
          "name": "stdout",
          "text": [
            "Employee ID, Employee Name, Employee Type, Hours Worked, Hourly Rate, Location, Salary\n",
            "1, John, full-time, 40, 15, ON, 0\n",
            "2, Jane, part-time, 20, 12, ON, 0\n",
            "2, name, full-time, 2, 23, ON, 0\n"
          ]
        }
      ]
    },
    {
      "cell_type": "code",
      "source": [
        "# now create create_employees function, which is a modified version of create_single_employee, with the addition of while loop to allow users to continue input employee information until they want to stop"
      ],
      "metadata": {
        "id": "458dxI6JD8Cl"
      },
      "execution_count": null,
      "outputs": []
    },
    {
      "cell_type": "code",
      "source": [
        "def create_employees():\n",
        "    while(True):\n",
        "        employee_id = int(input(\"Enter employee ID or enter -1 to stop: \"))\n",
        "        if(employee_id == -1): break\n",
        "\n",
        "        employee_name = input(\"Enter Employee Name: \")\n",
        "        employee_type = input(\"Enter Employee Type: \")\n",
        "        employee_hours_worked = int(input(\"Enter Employee Total Hours Worked: \"))\n",
        "        employee_hourly_rate = int(input(\"Enter Employee Hourly Rate: \"))\n",
        "        employee_location = input(\"Enter Employee Location: \")\n",
        "        employees.append([employee_id, employee_name, employee_type, employee_hours_worked, employee_hourly_rate, employee_location, 0])\n",
        "        print(\"Employee with ID \" + str(employee_id) + \" is succefully added.\")\n",
        "\n"
      ],
      "metadata": {
        "id": "ExHWwzQOCQ5C"
      },
      "execution_count": null,
      "outputs": []
    },
    {
      "cell_type": "code",
      "source": [
        "# make a function call to create_employees() to start adding employees"
      ],
      "metadata": {
        "id": "XepdXWP7CQxW"
      },
      "execution_count": null,
      "outputs": []
    },
    {
      "cell_type": "code",
      "source": [
        "create_employees()"
      ],
      "metadata": {
        "colab": {
          "base_uri": "https://localhost:8080/"
        },
        "id": "20uogM30CQi9",
        "outputId": "2567713e-d607-4f5d-c0ba-29e65a5d22d1"
      },
      "execution_count": null,
      "outputs": [
        {
          "name": "stdout",
          "output_type": "stream",
          "text": [
            "Enter employee ID or enter -1 to stop: 5\n",
            "Enter Employee Name: darya\n",
            "Enter Employee Type: part-timr\n",
            "Enter Employee Total Hours Worked: 23\n",
            "Enter Employee Hourly Rate: 23\n",
            "Enter Employee Location: ON\n",
            "Employee with ID 5 is succefully added.\n",
            "Enter employee ID or enter -1 to stop: -1\n"
          ]
        }
      ]
    },
    {
      "cell_type": "code",
      "source": [
        "# make a function call to print_employees() to see the updated employees list"
      ],
      "metadata": {
        "id": "7vqsT4MtW_0k"
      },
      "execution_count": null,
      "outputs": []
    },
    {
      "cell_type": "code",
      "source": [
        "print_employees()"
      ],
      "metadata": {
        "colab": {
          "base_uri": "https://localhost:8080/"
        },
        "id": "_s6CsXcmXHNv",
        "outputId": "0597e874-6669-4757-f3be-433b2ba757c4"
      },
      "execution_count": null,
      "outputs": [
        {
          "output_type": "stream",
          "name": "stdout",
          "text": [
            "Employee ID, Employee Name, Employee Type, Hours Worked, Hourly Rate, Location, Salary\n",
            "1, John, full-time, 40, 15, ON, 0\n",
            "2, Jane, part-time, 20, 12, ON, 0\n",
            "2, name, full-time, 2, 23, ON, 0\n",
            "5, darya, part-timr, 23, 23, ON, 0\n"
          ]
        }
      ]
    },
    {
      "cell_type": "code",
      "source": [
        "# let's practice using a while loop, an if statement, and input() function to repeatedly prompt the user for input until they provide a non-empty value"
      ],
      "metadata": {
        "id": "8MNFu8AZZFKL"
      },
      "execution_count": null,
      "outputs": []
    },
    {
      "cell_type": "code",
      "source": [
        "while True:\n",
        "    user_input = input(\"Enter some value: \")\n",
        "    if user_input:\n",
        "        break\n",
        "    print(\"Input can not be empty. Please try again.\")"
      ],
      "metadata": {
        "colab": {
          "base_uri": "https://localhost:8080/"
        },
        "id": "CyR06g0TZOzG",
        "outputId": "db001823-5ec1-4228-af19-b82ee4eea921"
      },
      "execution_count": null,
      "outputs": [
        {
          "name": "stdout",
          "output_type": "stream",
          "text": [
            "Enter some value: \n",
            "Input can not be empty. Please try again.\n",
            "Enter some value: \n",
            "Input can not be empty. Please try again.\n",
            "Enter some value: 2\n"
          ]
        }
      ]
    },
    {
      "cell_type": "code",
      "source": [
        "# convert the above to a helper function called get_valid_input(prompt_message) that takes a prompt message and returns a non-empty user input"
      ],
      "metadata": {
        "id": "Oy0a3VKNZjjx"
      },
      "execution_count": null,
      "outputs": []
    },
    {
      "cell_type": "code",
      "source": [
        "def get_valid_input(prompt_message):\n",
        "    while True:\n",
        "        user_input = input(\"Enter some value: \")\n",
        "        if user_input:\n",
        "            break\n",
        "        print(\"Input can not be empty. Please try again.\")"
      ],
      "metadata": {
        "id": "dam0_H6-ujAh"
      },
      "execution_count": null,
      "outputs": []
    },
    {
      "cell_type": "code",
      "source": [
        "# Now let adding some input validation to the create employees process and try to use the helper function above to check for empty value for each field.\n",
        "# Copy the content of create_employees() function and create a new function named create_employee_validation(). Then try to apply the get_valid_input() function for each input field to prevent users from enter empty value."
      ],
      "metadata": {
        "id": "iHSa_9N_XOfI"
      },
      "execution_count": null,
      "outputs": []
    },
    {
      "cell_type": "code",
      "source": [
        "def getting_valid_input(prompt_message):\n",
        "    while True:\n",
        "        user_input = input(prompt_message)\n",
        "        if user_input:\n",
        "            return user_input\n",
        "        print(\"Input cannot be empty. Please try again.\")\n",
        "\n",
        "def create_employees_validation():\n",
        "    while(True):\n",
        "        employee_id = int(input(\"Enter employee ID or enter -1 to stop: \"))\n",
        "        if(employee_id == -1): break\n",
        "\n",
        "        employee_name = getting_valid_input(\"Enter Employee Name: \")\n",
        "        employee_type = getting_valid_input(\"Enter Employee Type: \")\n",
        "        employee_hours_worked = int(input(\"Enter Employee Total Hours Worked: \"))\n",
        "        employee_hourly_rate = int(input(\"Enter Employee Hourly Rate: \"))\n",
        "        employee_location = getting_valid_input(\"Enter Employee Location: \")\n",
        "        employees.append([employee_id, employee_name, employee_type, employee_hours_worked, employee_hourly_rate, employee_location, 0])\n",
        "        print(\"Employee with ID \" + str(employee_id) + \" is succefully added.\")"
      ],
      "metadata": {
        "id": "JOO2mHPQXxfH"
      },
      "execution_count": null,
      "outputs": []
    },
    {
      "cell_type": "code",
      "source": [
        "# make a function call to create_employees_validation() to start adding employees"
      ],
      "metadata": {
        "id": "eykNJ39gbV6l"
      },
      "execution_count": null,
      "outputs": []
    },
    {
      "cell_type": "code",
      "source": [
        "create_employees_validation()"
      ],
      "metadata": {
        "colab": {
          "base_uri": "https://localhost:8080/"
        },
        "id": "dKgsHpvSb-K5",
        "outputId": "961bcc5d-72e1-40eb-8a08-92e031bc76b3"
      },
      "execution_count": null,
      "outputs": [
        {
          "name": "stdout",
          "output_type": "stream",
          "text": [
            "Enter employee ID or enter -1 to stop: -1\n"
          ]
        }
      ]
    },
    {
      "cell_type": "code",
      "source": [
        "# make a function call to print_employees() to see the updated employees list"
      ],
      "metadata": {
        "id": "28FRPI7DbMwG"
      },
      "execution_count": null,
      "outputs": []
    },
    {
      "cell_type": "code",
      "source": [
        "print_employees()"
      ],
      "metadata": {
        "colab": {
          "base_uri": "https://localhost:8080/"
        },
        "id": "9DbZ_gv0bNRH",
        "outputId": "a241fd83-15e1-4c9e-d7cf-0d258c652846"
      },
      "execution_count": null,
      "outputs": [
        {
          "output_type": "stream",
          "name": "stdout",
          "text": [
            "Employee ID, Employee Name, Employee Type, Hours Worked, Hourly Rate, Location, Salary\n",
            "1, John, full-time, 40, 15, ON, 0\n",
            "2, Jane, part-time, 20, 12, ON, 0\n",
            "2, name, full-time, 2, 23, ON, 0\n",
            "5, darya, part-timr, 23, 23, ON, 0\n"
          ]
        }
      ]
    },
    {
      "cell_type": "code",
      "source": [
        "# Practice, now create a helper function called get_valid_type(prompt_message, types) to validate values against a list of predefined values. The function should take two parameters: prompt_message and types. Types is a list to store possible values that users are allowed to enter."
      ],
      "metadata": {
        "id": "MNZS3_ryXfho"
      },
      "execution_count": null,
      "outputs": []
    },
    {
      "cell_type": "code",
      "source": [
        "valid_employee_types = [\"Full-time\", \"Part-time\"]\n",
        "def get_valid_type(promt_massage):\n",
        "    while True:\n",
        "        user_input = input(prompt_message)\n",
        "        if user_input in valid_employee_types:\n",
        "            return user_input\n",
        "\n",
        "        print(\"Input cannot be empty. Please try again.\")"
      ],
      "metadata": {
        "id": "6tbiJfrxuo3o"
      },
      "execution_count": null,
      "outputs": []
    },
    {
      "cell_type": "code",
      "source": [
        "# Update create_employees_validation() function to apply the get_valid_type for employee_type"
      ],
      "metadata": {
        "id": "vBnFA6zQpl9B"
      },
      "execution_count": null,
      "outputs": []
    },
    {
      "cell_type": "code",
      "source": [
        "valid_employee_types = [\"full-time\", \"part-time\"]\n",
        "\n",
        "def get_valid_type(prompt_message):\n",
        "    while True:\n",
        "        user_input = input(prompt_message)\n",
        "        if user_input in valid_employee_types:\n",
        "            return user_input\n",
        "        print(\"Invalid input. Please enter a valid employee type.\")\n",
        "\n",
        "def getting_valid_input(prompt_message):\n",
        "    while True:\n",
        "        user_input = input(prompt_message)\n",
        "        if user_input:\n",
        "            return user_input\n",
        "        print(\"Input cannot be empty. Please try again.\")\n",
        "\n",
        "def create_employees_validation():\n",
        "    while True:\n",
        "        employee_id = getting_valid_input(\"Enter employee ID or enter -1 to stop: \")\n",
        "        if employee_id == \"-1\":\n",
        "            break\n",
        "\n",
        "        employee_name = getting_valid_input(\"Enter Employee Name: \")\n",
        "        employee_type = get_valid_type(\"Enter Employee Type (Full-time/Part-time): \")\n",
        "        employee_hours_worked = int(getting_valid_input(\"Enter Employee Total Hours Worked: \"))\n",
        "        employee_hourly_rate = int(getting_valid_input(\"Enter Employee Hourly Rate: \"))\n",
        "        employee_location = getting_valid_input(\"Enter Employee Location: \")\n",
        "        employees.append([employee_id, employee_name, employee_type, employee_hours_worked, employee_hourly_rate, employee_location, 0])\n",
        "        print(\"Employee with ID \" + str(employee_id) + \" is successfully added.\")\n",
        "\n",
        "\n"
      ],
      "metadata": {
        "id": "mGA-wBGinMqN"
      },
      "execution_count": null,
      "outputs": []
    },
    {
      "cell_type": "code",
      "source": [
        "# make a function call to create_employees_validation() and check if the new validation rule of employee_type."
      ],
      "metadata": {
        "id": "QwZmC7D2oBrj"
      },
      "execution_count": null,
      "outputs": []
    },
    {
      "cell_type": "code",
      "source": [
        "create_employees_validation()"
      ],
      "metadata": {
        "colab": {
          "base_uri": "https://localhost:8080/"
        },
        "id": "xquaTe6ynzhn",
        "outputId": "8a952036-a0cd-4a8a-e0d6-cc720200c8c4"
      },
      "execution_count": null,
      "outputs": [
        {
          "name": "stdout",
          "output_type": "stream",
          "text": [
            "Enter employee ID or enter -1 to stop: -1\n"
          ]
        }
      ]
    },
    {
      "cell_type": "code",
      "source": [
        "# More practice, now create a helper function named get_valid_number() to validate integer input such as employee_id, employee_hours_worked, and employee_hourly_rate."
      ],
      "metadata": {
        "id": "Ja4EwGw5oUmS"
      },
      "execution_count": null,
      "outputs": []
    },
    {
      "cell_type": "code",
      "source": [
        "def get_valid_number(prompt_message):\n",
        "    while True:\n",
        "        user_input = input(prompt_message)\n",
        "        if user_input.isdigit():\n",
        "            return int(user_input)\n",
        "        print(\"Invalid input. Please enter a valid number.\")"
      ],
      "metadata": {
        "id": "GyXyTlk6oUSa"
      },
      "execution_count": null,
      "outputs": []
    },
    {
      "cell_type": "code",
      "source": [
        "# Update create_employees_validation() function one more time to apply the get_valid_number to employee_id, employee_hours_worked, and employee_hourly_rate."
      ],
      "metadata": {
        "id": "8swnPDappIMo"
      },
      "execution_count": null,
      "outputs": []
    },
    {
      "cell_type": "code",
      "source": [
        "def create_employees_validation():\n",
        "    while True:\n",
        "        employee_id = get_valid_number(\"Enter employee ID or enter -1 to stop: \")\n",
        "        if employee_id == -1:\n",
        "            break\n",
        "\n",
        "        employee_name = getting_valid_input(\"Enter Employee Name: \")\n",
        "        employee_type = get_valid_type(\"Enter Employee Type: \")\n",
        "        employee_hours_worked = get_valid_number(\"Enter Employee Total Hours Worked: \")\n",
        "        employee_hourly_rate = get_valid_number(\"Enter Employee Hourly Rate: \")\n",
        "        employee_location = getting_valid_input(\"Enter Employee Location: \")\n",
        "        employees.append([employee_id, employee_name, employee_type, employee_hours_worked, employee_hourly_rate, employee_location, 0])\n",
        "        print(\"Employee with ID \" + str(employee_id) + \" is successfully added.\")\n",
        "        add_another = getting_valid_input(\"Do you wish to add another employee? (Y/N): \")\n",
        "        if add_another.lower() != \"y\":\n",
        "            break"
      ],
      "metadata": {
        "id": "OEhoJI5MpIEO"
      },
      "execution_count": null,
      "outputs": []
    },
    {
      "cell_type": "code",
      "source": [
        "# make a function call to create_employees_validation() and check if the new validation rule apply to employee_id, employee_hours_worked, and employee_hourly_rate"
      ],
      "metadata": {
        "id": "RnovPGsLqji_"
      },
      "execution_count": null,
      "outputs": []
    },
    {
      "cell_type": "code",
      "source": [
        "create_employees_validation()"
      ],
      "metadata": {
        "colab": {
          "base_uri": "https://localhost:8080/"
        },
        "id": "pZkNMgivqtPa",
        "outputId": "2c76012f-a6b1-414e-e818-30602a5e26ab"
      },
      "execution_count": null,
      "outputs": [
        {
          "name": "stdout",
          "output_type": "stream",
          "text": [
            "Enter employee ID or enter -1 to stop: 4\n",
            "Enter Employee Name: darya\n",
            "Enter Employee Type: full-time\n",
            "Enter Employee Total Hours Worked: 23\n",
            "Enter Employee Hourly Rate: 45\n",
            "Enter Employee Location: ON\n",
            "Employee with ID 4 is successfully added.\n",
            "Do you wish to add another employee? (Y/N): n\n"
          ]
        }
      ]
    },
    {
      "cell_type": "markdown",
      "source": [],
      "metadata": {
        "id": "G62epL1cnMTI"
      }
    },
    {
      "cell_type": "markdown",
      "source": [
        "## List Comprehension"
      ],
      "metadata": {
        "id": "6DfkFsv8CRXg"
      }
    },
    {
      "cell_type": "code",
      "source": [
        "# Add a dictionary to look up and display employee location\n",
        "provinces = {\n",
        "  \"AB\": \"Alberta\",\n",
        "  \"BC\": \"British Columbia\",\n",
        "  \"MB\": \"Manitoba\",\n",
        "  \"NB\": \"New Brunswick\",\n",
        "  \"NL\": \"Newfoundland and Labrador\",\n",
        "  \"NS\": \"Nova Scotia\",\n",
        "  \"NT\": \"Northwest Territories\",\n",
        "  \"NU\": \"Nunavut\",\n",
        "  \"ON\": \"Ontario\",\n",
        "  \"PE\": \"Prince Edward Island\",\n",
        "  \"QC\": \"Quebec\",\n",
        "  \"SK\": \"Saskatchewan\",\n",
        "  \"YT\": \"Yukon\"\n",
        "}"
      ],
      "metadata": {
        "id": "KKrpSrhQCY5z"
      },
      "execution_count": null,
      "outputs": []
    },
    {
      "cell_type": "code",
      "source": [
        "# Use list comprehension to extract the keys from the dictionary\n",
        "locations = [k for k in provinces.keys()]"
      ],
      "metadata": {
        "id": "cM7hKk8mrmG1"
      },
      "execution_count": null,
      "outputs": []
    },
    {
      "cell_type": "code",
      "source": [
        "# Update create_employees_validation() function to apply the get_valid_type for employee_location using the dictionary locations generated above."
      ],
      "metadata": {
        "id": "GrUEr4v5sOUe"
      },
      "execution_count": null,
      "outputs": []
    },
    {
      "cell_type": "code",
      "source": [
        "selected_location = 'ON'"
      ],
      "metadata": {
        "id": "SiDwLW1KbOtA"
      },
      "execution_count": null,
      "outputs": []
    },
    {
      "cell_type": "code",
      "source": [
        "class Prescription:\n",
        "    def __init__(self, patient_name, medications, dosage_instructions, location):\n",
        "        self.patient_name = patient_name\n",
        "        self.medications = medications\n",
        "        self.dosage_instructions = dosage_instructions\n",
        "        self.location = location\n",
        "\n",
        "    def generate_prescription(self):\n",
        "        prescription_text = f\"Patient Name: {self.patient_name}\\nLocation: {self.location}\\n\\nMedications:\\n\"\n",
        "        for medication, dosage in zip(self.medications, self.dosage_instructions):\n",
        "            prescription_text += f\"- {medication}: {dosage}\\n\"\n",
        "\n",
        "        return prescription_text\n",
        "\n",
        "patient_name = \"John Doe\"\n",
        "medications = [\"Aspirin\", \"Antibiotic\"]\n",
        "dosages = [\"1 tablet daily\", \"2 tablets twice a day\"]\n",
        "\n",
        "if selected_location in provinces:\n",
        "    prescription = Prescription(patient_name, medications, dosages, provinces[selected_location])\n",
        "    prescription_text = prescription.generate_prescription()\n",
        "    print(prescription_text)\n",
        "\n",
        "else:\n",
        "   print(\"Invalid location selected.\")"
      ],
      "metadata": {
        "id": "myJpppCLsgVx",
        "colab": {
          "base_uri": "https://localhost:8080/"
        },
        "outputId": "ffa390d4-f09f-4efe-fcd3-6676c94f16df"
      },
      "execution_count": null,
      "outputs": [
        {
          "output_type": "stream",
          "name": "stdout",
          "text": [
            "Patient Name: John Doe\n",
            "Location: Ontario\n",
            "\n",
            "Medications:\n",
            "- Aspirin: 1 tablet daily\n",
            "- Antibiotic: 2 tablets twice a day\n",
            "\n"
          ]
        }
      ]
    },
    {
      "cell_type": "code",
      "source": [
        "# make a function call to create_employees_validation() and validate the new rule apply to employee_location"
      ],
      "metadata": {
        "id": "uZBEs_lbsgNx"
      },
      "execution_count": null,
      "outputs": []
    },
    {
      "cell_type": "code",
      "source": [
        "class Employee:\n",
        "    def __init__(self, employee_id, employee_name, employee_type, hours_worked, hourly_rate, location):\n",
        "        self.employee_id = employee_id\n",
        "        self.employee_name = employee_name\n",
        "        self.employee_type = employee_type\n",
        "        self.hours_worked = hours_worked\n",
        "        self.hourly_rate = hourly_rate\n",
        "        self.location = location\n",
        "        self.salary = 0\n",
        "\n",
        "    def calculate_salary(self):\n",
        "        self.salary = self.hours_worked * self.hourly_rate\n",
        "\n",
        "    def display_employee(self):\n",
        "        return f\"{self.employee_id}, {self.employee_name}, {self.employee_type}, {self.hours_worked}, {self.hourly_rate}, {self.location}, {self.salary}\"\n",
        "\n",
        "def create_employees_validation(employee_location, valid_locations):\n",
        "    \"\"\"\n",
        "    Function to validate the employee location against a list of valid locations.\n",
        "    \"\"\"\n",
        "    while employee_location not in valid_locations:\n",
        "        print(f\"Invalid employee location '{employee_location}'.\")\n",
        "        print(\"Please enter one of the following values:\", \", \".join(valid_locations))\n",
        "        employee_location = input(\"Enter Employee Location: \")\n",
        "    print(f\"Employee location '{employee_location}' is valid.\")\n",
        "    return employee_location\n",
        "\n",
        "def main():\n",
        "    employees = []\n",
        "    valid_locations = ['AB', 'BC', 'MB', 'NB', 'NL', 'NS', 'NT', 'NU', 'ON', 'PE', 'QC', 'SK', 'YT']\n",
        "\n",
        "    while True:\n",
        "        print(\"\\nEnter some value: \")\n",
        "        user_input = input(\"Enter employee ID: \")\n",
        "\n",
        "        if user_input == '-1':\n",
        "            break\n",
        "\n",
        "        try:\n",
        "            employee_id = int(user_input)\n",
        "            employee_name = input(\"Enter Employee Name: \")\n",
        "            employee_type = input(\"Enter Employee Type: \")\n",
        "            hours_worked = float(input(\"Enter Employee Total Hours Worked: \"))\n",
        "            hourly_rate = float(input(\"Enter Employee Hourly Rate: \"))\n",
        "            employee_location = input(\"Enter Employee Location: \")\n",
        "            employee_location = create_employees_validation(employee_location, valid_locations)\n",
        "\n",
        "            employee = Employee(employee_id, employee_name, employee_type, hours_worked, hourly_rate, employee_location)\n",
        "            employee.calculate_salary()\n",
        "            employees.append(employee)\n",
        "            print(f\"Employee with ID {employee_id} is successfully added.\")\n",
        "\n",
        "        except ValueError:\n",
        "            print(\"Invalid input. Please enter a valid employee ID.\")\n",
        "\n",
        "        print(\"\\nEmployee ID, Employee Name, Employee Type, Hours Worked, Hourly Rate, Location, Salary\")\n",
        "        for emp in employees:\n",
        "            print(emp.display_employee())\n",
        "\n",
        "        add_another = input(\"Do you wish to add another employee? (Y/N): \")\n",
        "        if add_another.lower() == 'n':\n",
        "            print(\"Program terminated.\")\n",
        "            break\n",
        "if __name__ == \"__main__\":\n",
        "    main()"
      ],
      "metadata": {
        "colab": {
          "base_uri": "https://localhost:8080/"
        },
        "id": "ZGkiq6-hszC_",
        "outputId": "9fb753a4-f16b-45c4-9f74-b54bade1f0b3"
      },
      "execution_count": null,
      "outputs": [
        {
          "output_type": "stream",
          "name": "stdout",
          "text": [
            "\n",
            "Enter some value: \n",
            "Enter employee ID: 1\n",
            "Enter Employee Name: Darya\n",
            "Enter Employee Type: part-time\n",
            "Enter Employee Total Hours Worked: 23\n",
            "Enter Employee Hourly Rate: 23\n",
            "Enter Employee Location: ON\n",
            "Employee location 'ON' is valid.\n",
            "Employee with ID 1 is successfully added.\n",
            "\n",
            "Employee ID, Employee Name, Employee Type, Hours Worked, Hourly Rate, Location, Salary\n",
            "1, Darya, part-time, 23.0, 23.0, ON, 529.0\n",
            "Do you wish to add another employee? (Y/N): n\n",
            "Program terminated.\n"
          ]
        }
      ]
    }
  ]
}