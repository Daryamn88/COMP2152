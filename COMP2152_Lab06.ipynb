{
  "cells": [
    {
      "cell_type": "markdown",
      "metadata": {
        "id": "view-in-github",
        "colab_type": "text"
      },
      "source": [
        "<a href=\"https://colab.research.google.com/github/Daryamn88/COMP2152/blob/main/COMP2152_Lab06.ipynb\" target=\"_parent\"><img src=\"https://colab.research.google.com/assets/colab-badge.svg\" alt=\"Open In Colab\"/></a>"
      ]
    },
    {
      "cell_type": "markdown",
      "metadata": {
        "id": "rZICUkOECqIY"
      },
      "source": [
        "# How to Work With File I/O"
      ]
    },
    {
      "cell_type": "markdown",
      "metadata": {
        "id": "YbMakGKkEYa6"
      },
      "source": [
        "In this exercise, we will enhance our simple employees crud script by adding a mechanism to store and retrieve employee data from a persistent storage, e.g File Storage.\n",
        "\n",
        "File storage is a simple and straightforward method of storing data in which data is saved as files on a disk. It is often used for smaller applications or for applications that do not require complex querying or transactions. Advantages of file storage include simplicity, ease of use, and low overhead. However, file storage has some limitations, such as limited scalability, poor performance for large amounts of data, and the lack of built-in security and data validation."
      ]
    },
    {
      "cell_type": "markdown",
      "metadata": {
        "id": "SaEgmc-iWAKH"
      },
      "source": [
        "# Text File"
      ]
    },
    {
      "cell_type": "markdown",
      "metadata": {
        "id": "7lUusqREC5Up"
      },
      "source": [
        "Write Data to File and Read Data From txt file, then close the file manually"
      ]
    },
    {
      "cell_type": "code",
      "execution_count": null,
      "metadata": {
        "id": "CXLj7cV0g0Z9"
      },
      "outputs": [],
      "source": [
        "# Write your name and student ID here as a comment like:\n",
        "#Darya Mansouri 101394900"
      ]
    },
    {
      "cell_type": "code",
      "execution_count": null,
      "metadata": {
        "id": "S9qAF-bL4A74"
      },
      "outputs": [],
      "source": [
        "# Function \"square\" that takes a single argument and returns its square"
      ]
    },
    {
      "cell_type": "code",
      "execution_count": null,
      "metadata": {
        "id": "ZVV66b2Mg0Z-"
      },
      "outputs": [],
      "source": [
        "def square(number):\n",
        "    \"\"\"Returns the square of a number.\"\"\"\n",
        "    return number ** 2"
      ]
    },
    {
      "cell_type": "code",
      "execution_count": null,
      "metadata": {
        "id": "r2LNVBNI4C2y",
        "colab": {
          "base_uri": "https://localhost:8080/"
        },
        "outputId": "2ec6c65c-d85f-4407-8942-1ea6774460bc"
      },
      "outputs": [
        {
          "output_type": "stream",
          "name": "stderr",
          "text": [
            "...\n",
            "----------------------------------------------------------------------\n",
            "Ran 3 tests in 0.012s\n",
            "\n",
            "OK\n"
          ]
        },
        {
          "output_type": "execute_result",
          "data": {
            "text/plain": [
              "<unittest.main.TestProgram at 0x7821c02c46a0>"
            ]
          },
          "metadata": {},
          "execution_count": 7
        }
      ],
      "source": [
        "# Unit Test for \"square\":\n",
        "import unittest\n",
        "class TestSquareFunction(unittest.TestCase):\n",
        "  def test_Square_positive(self):\n",
        "    self.assertEqual(square(4), 16)\n",
        "  def test_Square_negative(self):\n",
        "    self.assertEqual(square(-4), 16)\n",
        "  def test_Square_zero(self):\n",
        "    self.assertEqual(square(0), 0)\n",
        "\n",
        "#if __name__ == 'main':\n",
        "#  unittest.main()\n",
        "\n",
        "unittest.main(argv=[' '], exit=False)"
      ]
    },
    {
      "cell_type": "code",
      "execution_count": null,
      "metadata": {
        "id": "oNhgkOCi4qyQ"
      },
      "outputs": [],
      "source": [
        "# The \"is_palindrome\" function that takes a string as input and returns True if the string is a palindrome and False otherwise.\n",
        "def is_palindrome(s):\n",
        "    \"\"\"Check if a string is a palindrome.\"\"\"\n",
        "    # Normalize the string: remove spaces, punctuation, and make lowercase.\n",
        "    clean_s = ''.join(char.lower() for char in s if char.isalnum())\n",
        "    # Check if the cleaned string is equal to its reverse.\n",
        "    return clean_s == clean_s[::-1]"
      ]
    },
    {
      "cell_type": "code",
      "execution_count": null,
      "metadata": {
        "colab": {
          "base_uri": "https://localhost:8080/"
        },
        "id": "N-khPIZlg0Z_",
        "outputId": "7a03ee7c-592e-4e45-dcbf-a59edbfa394e"
      },
      "outputs": [
        {
          "output_type": "stream",
          "name": "stderr",
          "text": [
            ".......\n",
            "----------------------------------------------------------------------\n",
            "Ran 7 tests in 0.015s\n",
            "\n",
            "OK\n"
          ]
        },
        {
          "output_type": "execute_result",
          "data": {
            "text/plain": [
              "<unittest.main.TestProgram at 0x7821c00fefb0>"
            ]
          },
          "metadata": {},
          "execution_count": 18
        }
      ],
      "source": [
        "# Unit test for \"is_palindrome\"\n",
        "class TestIsPalindrome(unittest.TestCase):\n",
        "  def test_is_palindrome(self):\n",
        "    self.assertTrue(is_palindrome(\"dad\"))\n",
        "  def test_isnot_palindrome(self):\n",
        "    self.assertFalse(is_palindrome(\"damn\"))\n",
        "\n",
        "\n",
        "unittest.main(argv=[' '], exit=False)\n"
      ]
    },
    {
      "cell_type": "code",
      "execution_count": null,
      "metadata": {
        "id": "ipD8hCHnFGLe"
      },
      "outputs": [],
      "source": [
        "# open the file named \"employee_data.txt\" in \"write mode\" and store the return object in a variable named \"file\"\n",
        "file = open(\"employee_data.txt\", \"w\")"
      ]
    },
    {
      "cell_type": "code",
      "execution_count": null,
      "metadata": {
        "id": "p94lw3X5FW18"
      },
      "outputs": [],
      "source": []
    },
    {
      "cell_type": "code",
      "execution_count": null,
      "metadata": {
        "colab": {
          "base_uri": "https://localhost:8080/"
        },
        "id": "ANKBO2RuMXSg",
        "outputId": "73b2994d-9443-4163-c720-08cc4ed8f207"
      },
      "outputs": [
        {
          "output_type": "execute_result",
          "data": {
            "text/plain": [
              "_io.TextIOWrapper"
            ]
          },
          "metadata": {},
          "execution_count": 20
        }
      ],
      "source": [
        "type(file)\n",
        "# _io.TextIOWrapper is a class in the Python Standard Library that provides a text-mode interface\n",
        "# for reading and writing text files. It is part of the io module, which is a built-in module in Python that provides a set of functions for working with I/O (input/output) operations."
      ]
    },
    {
      "cell_type": "code",
      "execution_count": null,
      "metadata": {
        "id": "u4gAmUTFFWzH"
      },
      "outputs": [],
      "source": [
        "# using write method, write the header row to the file\n",
        "# Employee ID,Employee Name,Employee Type,Hours Worked,Hourly Rate,Location,Salary\n",
        "# Do not forget to add a line break character \\n at the end of each line."
      ]
    },
    {
      "cell_type": "code",
      "execution_count": null,
      "metadata": {
        "colab": {
          "base_uri": "https://localhost:8080/"
        },
        "id": "xChgxtI9FWwR",
        "outputId": "302fd410-3f12-41af-9d25-902a8fbb0509"
      },
      "outputs": [
        {
          "output_type": "execute_result",
          "data": {
            "text/plain": [
              "81"
            ]
          },
          "metadata": {},
          "execution_count": 21
        }
      ],
      "source": [
        "file.write(\"Employee ID,Employee Name,Employee Type,Hours Worked,Hourly Rate,Location,Salary\\n\")"
      ]
    },
    {
      "cell_type": "code",
      "execution_count": null,
      "metadata": {
        "id": "QqhliL4GIPEL"
      },
      "outputs": [],
      "source": [
        "# After executed the previous line of code, navigate to the file directory, open the employee_data.txt and check if there is any content is shown.\n",
        "\n",
        "# Interesting, the file is empty! It is because the file is not yet closed.\n",
        "\n",
        "# When a file is opened for reading or writing, it is locked by the operating system to prevent other processes from accessing it.\n",
        "# Once the file has been read from or written to, the lock is released and the file can be closed. Closing the file also ensures that any changes made to the file are properly saved\n",
        "# and that any buffer data is flushed to the disk.\n",
        "\n",
        "# Failing to close a file after reading from or writing to it can result in several problems, such as data corruption or resource leaks. For example, if a file is not closed after\n",
        "# writing to it, any changes made to the file may not be saved properly and the contents of the file may become inconsistent.\n"
      ]
    },
    {
      "cell_type": "code",
      "execution_count": null,
      "metadata": {
        "id": "scBt4hN8Gl3j"
      },
      "outputs": [],
      "source": [
        "# Now, add a line of code to close the file"
      ]
    },
    {
      "cell_type": "code",
      "execution_count": null,
      "metadata": {
        "id": "3CGL7TpMFWtM"
      },
      "outputs": [],
      "source": [
        "file.close()"
      ]
    },
    {
      "cell_type": "code",
      "execution_count": null,
      "metadata": {
        "id": "pH5bYB2WFWqI"
      },
      "outputs": [],
      "source": [
        "# execute the file close() function, navigate to the file directory, open the employee_data.txt, you will now able to see the row header data appeared in the text file"
      ]
    },
    {
      "cell_type": "code",
      "execution_count": null,
      "metadata": {
        "id": "yjSPUrcCFWjU"
      },
      "outputs": [],
      "source": [
        "#How can we read the contents of a file in Python without altering its current data?\n",
        "#Explain the difference between 'r' and 'r+' modes."
      ]
    },
    {
      "cell_type": "code",
      "execution_count": null,
      "metadata": {
        "id": "tnYMV48rUKjk"
      },
      "outputs": [],
      "source": [
        "# Answer:\n",
        "# r is only for reading a file and opening a file for reading without making any changes\n",
        "# however the r+ is used to open file in both reading and writtting mode so you can both read and edit the file"
      ]
    },
    {
      "cell_type": "code",
      "execution_count": null,
      "metadata": {
        "id": "G9QNyp4DFWW3"
      },
      "outputs": [],
      "source": [
        "# Open the file 'employee_data.txt' in the \"append mode\" and start adding a the followinng employees into the file.\n",
        "# Don't forget to close the file when you finish writing!\n",
        "# 1, \"John Doe\", \"full-time\", 40, 25, \"AB\", 0\n",
        "# 2, \"Jane Doe\", \"part-time\", 20, 20, \"ON\", 0\n",
        "# 3, \"Bob Smith\", \"full-time\", 35, 30, \"ON\", 0"
      ]
    },
    {
      "cell_type": "code",
      "execution_count": null,
      "metadata": {
        "id": "ei57YUoXJmDh"
      },
      "outputs": [],
      "source": [
        "file = open('employee_data.txt', 'a')\n",
        "file.write('1, \"John Doe\", \"full-time\", 40, 25, \"AB\", 0\\n')\n",
        "file.write('2, \"Jane Doe\", \"part-time\", 20, 20, \"ON\", 0\\n')\n",
        "file.write('3, \"Bob Smith\", \"full-time\", 35, 30, \"ON\", 0\\n')\n",
        "file.close()"
      ]
    },
    {
      "cell_type": "markdown",
      "metadata": {
        "id": "EfciGthZLrqj"
      },
      "source": [
        "Read Data from File, then close the file manually\n"
      ]
    },
    {
      "cell_type": "code",
      "execution_count": null,
      "metadata": {
        "id": "HkTkDn7qL8x8",
        "colab": {
          "base_uri": "https://localhost:8080/"
        },
        "outputId": "40d4fc02-2ce1-4d4b-d111-13094fd1a9fd"
      },
      "outputs": [
        {
          "output_type": "stream",
          "name": "stdout",
          "text": [
            "['Employee ID,Employee Name,Employee Type,Hours Worked,Hourly Rate,Location,Salary\\n', 'Employee ID,Employee Name,Employee Type,Hours Worked,Hourly Rate,Location,Salary\\n', '1, \"John Doe\", \"full-time\", 40, 25, \"AB\", 0\\n', '2, \"Jane Doe\", \"part-time\", 20, 20, \"ON\", 0\\n', '3, \"Bob Smith\", \"full-time\", 35, 30, \"ON\", 0\\n']\n"
          ]
        },
        {
          "output_type": "execute_result",
          "data": {
            "text/plain": [
              "list"
            ]
          },
          "metadata": {},
          "execution_count": 32
        }
      ],
      "source": [
        "# open the file named \"employee_data.txt\" in \"read mode\" and store the return object in a variable named \"file\"\n",
        "file = open('employee_data.txt', 'r')\n",
        "contents = file.readlines()\n",
        "print(contents)\n",
        "file.close()\n",
        "type(contents)"
      ]
    },
    {
      "cell_type": "code",
      "execution_count": null,
      "metadata": {
        "id": "BJQfPeGYMHOm"
      },
      "outputs": [],
      "source": [
        "# try to use print(file) and see if the content of the file is printed to the screen."
      ]
    },
    {
      "cell_type": "code",
      "execution_count": null,
      "metadata": {
        "colab": {
          "base_uri": "https://localhost:8080/"
        },
        "id": "xNEh1f9WNRr0",
        "outputId": "ad4f33d9-629a-4034-a325-afa38fa20076"
      },
      "outputs": [
        {
          "output_type": "stream",
          "name": "stdout",
          "text": [
            "<_io.TextIOWrapper name='employee_data.txt' mode='r' encoding='UTF-8'>\n"
          ]
        }
      ],
      "source": [
        "print(file)"
      ]
    },
    {
      "cell_type": "code",
      "execution_count": null,
      "metadata": {
        "id": "p80svvpDNS7q"
      },
      "outputs": [],
      "source": [
        "# When you use the print function to display the contents of a file object, you're actually printing a string representation\n",
        "# of the object, not its contents. To see the contents of a file, you need to use one of the following read methods to get the desired content\n",
        "\n",
        "# Read the entire contents of the file as a single string\n",
        "# contents = file.read()\n",
        "\n",
        "# Read the entire contents of the file as a list of strings\n",
        "# contents = file.readlines()\n",
        "\n",
        "# Read each line of the file one by one\n",
        "# line = file.readline()\n",
        "# while line:\n",
        "    # print(\"Using readline():\\n\", line)\n",
        "    # line = file.readline()"
      ]
    },
    {
      "cell_type": "code",
      "execution_count": null,
      "metadata": {
        "id": "gTe9HyhuNTkW"
      },
      "outputs": [],
      "source": [
        "# Add a script to\n",
        "# 1. open the file in read mode\n",
        "# 2. use a read method of your choice to read and print the file content\n",
        "# 3. close the file"
      ]
    },
    {
      "cell_type": "code",
      "execution_count": null,
      "metadata": {
        "colab": {
          "base_uri": "https://localhost:8080/"
        },
        "id": "RtrMG-rGO5TX",
        "outputId": "035ddfda-dc52-4fad-baad-ea912e05982f"
      },
      "outputs": [
        {
          "output_type": "stream",
          "name": "stdout",
          "text": [
            "Employee ID,Employee Name,Employee Type,Hours Worked,Hourly Rate,Location,Salary\n",
            "Employee ID,Employee Name,Employee Type,Hours Worked,Hourly Rate,Location,Salary\n",
            "1, \"John Doe\", \"full-time\", 40, 25, \"AB\", 0\n",
            "2, \"Jane Doe\", \"part-time\", 20, 20, \"ON\", 0\n",
            "3, \"Bob Smith\", \"full-time\", 35, 30, \"ON\", 0\n",
            "\n"
          ]
        },
        {
          "output_type": "execute_result",
          "data": {
            "text/plain": [
              "str"
            ]
          },
          "metadata": {},
          "execution_count": 34
        }
      ],
      "source": [
        "# Using read()\n",
        "file = open('employee_data.txt', 'r')\n",
        "contents = file.read()\n",
        "print(contents)\n",
        "file.close()\n",
        "type(contents)"
      ]
    },
    {
      "cell_type": "code",
      "execution_count": null,
      "metadata": {
        "id": "llQ20aReZp41"
      },
      "outputs": [],
      "source": []
    },
    {
      "cell_type": "code",
      "execution_count": null,
      "metadata": {
        "colab": {
          "base_uri": "https://localhost:8080/"
        },
        "id": "aK5og2BoO5I_",
        "outputId": "cbf5690b-c1f5-4f07-8189-eb3d8a5e54bb"
      },
      "outputs": [
        {
          "name": "stdout",
          "output_type": "stream",
          "text": [
            "['Employee ID,Employee Name,Employee Type,Hours Worked,Hourly Rate,Location,Salary\\n', '1, John Doe, full-time, 40, 25, AB, 0\\n', '2, Jane Doe, part-time, 20, 20, ON, 0\\n', '3, Bob Smith, full-time, 35, 30, ON, 0\\n']\n"
          ]
        }
      ],
      "source": [
        "# Using readlines() - this will return a python list of employees instead of string.\n",
        "# Please be careful to add extra logic to split the data properly if you intend to use the return list as an input for other functions.\n",
        "# Create more job for sanitizing the data."
      ]
    },
    {
      "cell_type": "code",
      "execution_count": null,
      "metadata": {
        "colab": {
          "base_uri": "https://localhost:8080/"
        },
        "id": "1abNi0vzO4x3",
        "outputId": "5d6a7f5c-131c-4041-e3ac-73a6af1765f2"
      },
      "outputs": [
        {
          "output_type": "stream",
          "name": "stdout",
          "text": [
            "Employee ID,Employee Name,Employee Type,Hours Worked,Hourly Rate,Location,Salary\n",
            "\n",
            "Employee ID,Employee Name,Employee Type,Hours Worked,Hourly Rate,Location,Salary\n",
            "\n",
            "1, \"John Doe\", \"full-time\", 40, 25, \"AB\", 0\n",
            "\n",
            "2, \"Jane Doe\", \"part-time\", 20, 20, \"ON\", 0\n",
            "\n",
            "3, \"Bob Smith\", \"full-time\", 35, 30, \"ON\", 0\n",
            "\n",
            "\n"
          ]
        }
      ],
      "source": [
        "# Using readline()\n",
        "file = open('employee_data.txt', 'r')\n",
        "line = file.readline()\n",
        "print(line)\n",
        "while line:\n",
        "  line = file.readline()\n",
        "  print(line)\n",
        "file.close()\n"
      ]
    },
    {
      "cell_type": "code",
      "execution_count": null,
      "metadata": {
        "id": "gCRt0pBnZsTc"
      },
      "outputs": [],
      "source": []
    }
  ],
  "metadata": {
    "colab": {
      "provenance": [],
      "include_colab_link": true
    },
    "kernelspec": {
      "display_name": "Python 3",
      "name": "python3"
    },
    "language_info": {
      "name": "python"
    }
  },
  "nbformat": 4,
  "nbformat_minor": 0
}