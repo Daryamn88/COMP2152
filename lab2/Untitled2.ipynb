{
  "nbformat": 4,
  "nbformat_minor": 0,
  "metadata": {
    "colab": {
      "provenance": []
    },
    "kernelspec": {
      "name": "python3",
      "display_name": "Python 3"
    },
    "language_info": {
      "name": "python"
    }
  },
  "cells": [
    {
      "cell_type": "code",
      "execution_count": 8,
      "metadata": {
        "colab": {
          "base_uri": "https://localhost:8080/"
        },
        "id": "nDkVmvNW7aSc",
        "outputId": "a70abe14-000d-4f3d-cc34-4b48b1a92dc6"
      },
      "outputs": [
        {
          "output_type": "stream",
          "name": "stdout",
          "text": [
            "True\n",
            "True\n",
            "False\n",
            "False\n",
            "True \n",
            "\n",
            "False\n",
            "True\n",
            "True \n",
            "\n",
            "True\n",
            "False\n",
            "False\n",
            "True\n",
            "True\n",
            "False\n"
          ]
        }
      ],
      "source": [
        "mB1 = True\n",
        "mB2 = False\n",
        "num1 = 10\n",
        "num2 = 20\n",
        "num3 = 30\n",
        "s1 = \"Hello\"\n",
        "s2 = \"Bye\"\n",
        "print(mB1 == True)\n",
        "print(mB2 == False)\n",
        "print(mB2 != False)\n",
        "print(mB1 == mB2)\n",
        "print(mB1 != mB2 , \"\\n\")\n",
        "\n",
        "print(s1 == s2)\n",
        "print(s1 == \"Hello\")\n",
        "print(s1 != s2, \"\\n\")\n",
        "\n",
        "print(num1 == 10)\n",
        "print(num1 == 15)\n",
        "print(num1 == num2)\n",
        "print(num1 != num2)\n",
        "print(num1 + num2 == num3)\n",
        "print(num1 == num2 + num3)"
      ]
    },
    {
      "cell_type": "code",
      "source": [
        "num1 = 10\n",
        "num2 = 20\n",
        "num3 = 30\n",
        "c1 = 'T'\n",
        "c2 = 'W'\n",
        "\n",
        "print(num1 > 10)\n",
        "print(num1 > num2)\n",
        "print(num1 <= 20)\n",
        "print(num1 >= 15 , \"\\n\")\n",
        "\n",
        "print(c1 <= 'C')\n",
        "print(c1 > 'R')\n",
        "print(c1 > c2, \"\\n\")\n",
        "\n",
        "print(c2 > 'T')\n",
        "print(c2 >= 'X')\n",
        "print(c2 > c1, \"\\n\")\n",
        "\n",
        "print(num1 < 20)\n",
        "print(num2 > num1)\n",
        "print(num2 >=10)\n",
        "print(num2 <=15, \"\\n\")\n",
        "\n",
        "print(num1 + num2 > num3)\n",
        "print(num1 - num2 < num3)\n",
        "print(num2 / num3 < num1)\n",
        "print(num2 * num3 < num3)"
      ],
      "metadata": {
        "colab": {
          "base_uri": "https://localhost:8080/"
        },
        "id": "Gar6o-YD7-pl",
        "outputId": "ef3a4f07-eed8-432c-8994-607b91e14147"
      },
      "execution_count": 13,
      "outputs": [
        {
          "output_type": "stream",
          "name": "stdout",
          "text": [
            "False\n",
            "False\n",
            "True\n",
            "False \n",
            "\n",
            "False\n",
            "True\n",
            "False \n",
            "\n",
            "True\n",
            "False\n",
            "True \n",
            "\n",
            "True\n",
            "True\n",
            "True\n",
            "False \n",
            "\n",
            "False\n",
            "True\n",
            "True\n",
            "False\n"
          ]
        }
      ]
    },
    {
      "cell_type": "code",
      "source": [
        "mark = 75\n",
        "print(mark >= 70 and mark <= 80)\n",
        "mark1 = 50\n",
        "mark2 = 70\n",
        "mark3 = 90\n",
        "print(mark1 < mark2 and mark2 < mark3)"
      ],
      "metadata": {
        "colab": {
          "base_uri": "https://localhost:8080/"
        },
        "id": "3BNljcxGAGNV",
        "outputId": "1e200f34-0836-416c-f7cd-8119cb2edc55"
      },
      "execution_count": 14,
      "outputs": [
        {
          "output_type": "stream",
          "name": "stdout",
          "text": [
            "True\n",
            "True\n"
          ]
        }
      ]
    },
    {
      "cell_type": "code",
      "source": [
        "color = \"red\"\n",
        "print(color == \"red\" or color == \"blue\" or color == \"green\")\n",
        "color = \"blue\"\n",
        "print(len( color ) > 5 or color == \"red\")\n",
        "#len = length\n",
        "color = \"orange\"\n",
        "print('a' in color or len( color ) == 3)\n",
        "#checks if the letter \"a\" exists in the string that is stored in color"
      ],
      "metadata": {
        "colab": {
          "base_uri": "https://localhost:8080/"
        },
        "id": "M6nlm_zlAjjQ",
        "outputId": "11ba76f7-66ef-470b-a305-3123717a5492"
      },
      "execution_count": 15,
      "outputs": [
        {
          "output_type": "stream",
          "name": "stdout",
          "text": [
            "True\n",
            "False\n",
            "True\n"
          ]
        }
      ]
    },
    {
      "cell_type": "code",
      "source": [
        "mark = 60\n",
        "print( not mark == 60)\n",
        "\n",
        "trueOfFalse = True\n",
        "print ( not trueOfFalse)\n",
        "#it works the same way as ! exept for the fact that it is places at the begining of the statement"
      ],
      "metadata": {
        "colab": {
          "base_uri": "https://localhost:8080/"
        },
        "id": "2Sgz918-Bvs-",
        "outputId": "f38f63f5-d561-4e52-83c0-34819f6925be"
      },
      "execution_count": 17,
      "outputs": [
        {
          "output_type": "stream",
          "name": "stdout",
          "text": [
            "False\n",
            "False\n"
          ]
        }
      ]
    },
    {
      "cell_type": "code",
      "source": [
        "myBool = True\n",
        "if myBool :\n",
        "    print(\"success\")"
      ],
      "metadata": {
        "colab": {
          "base_uri": "https://localhost:8080/"
        },
        "id": "rXNxS_QHCfSV",
        "outputId": "ad3583dc-5756-4f36-ef02-c85cf9f75fb2"
      },
      "execution_count": 18,
      "outputs": [
        {
          "output_type": "stream",
          "name": "stdout",
          "text": [
            "success\n"
          ]
        }
      ]
    },
    {
      "cell_type": "code",
      "source": [
        "i = 4\n",
        "if i == 0 :\n",
        "    print (\"first\")\n",
        "elif i > 0 and i < 4 :\n",
        "    print (\"second\")\n",
        "elif i > 3 and i !=5 :\n",
        "    print (\"third\")\n",
        "else :\n",
        "    print(\"fourth\")"
      ],
      "metadata": {
        "colab": {
          "base_uri": "https://localhost:8080/"
        },
        "id": "7pYaVGtQC-9Q",
        "outputId": "f0f60ff4-f40b-4969-c40f-9cfff1ea0714"
      },
      "execution_count": 19,
      "outputs": [
        {
          "output_type": "stream",
          "name": "stdout",
          "text": [
            "third\n"
          ]
        }
      ]
    },
    {
      "cell_type": "code",
      "source": [
        "i = 0\n",
        "if i > 0 :\n",
        "    print(\"first\")\n",
        "elif i < 0 :\n",
        "    print(\"second\")"
      ],
      "metadata": {
        "colab": {
          "base_uri": "https://localhost:8080/"
        },
        "id": "yy4fBULYEhJ5",
        "outputId": "ae5a5df6-5e4e-441b-8e1b-f0dec989c8c2"
      },
      "execution_count": 23,
      "outputs": [
        {
          "output_type": "stream",
          "name": "stdout",
          "text": [
            "first\n"
          ]
        }
      ]
    },
    {
      "cell_type": "code",
      "source": [
        "hourlyEmployee = True;\n",
        "hours = 50\n",
        "bonus = 0\n",
        "yearsEmployed = 5\n",
        "\n",
        "if hourlyEmployee == True :\n",
        "    if hours > 40 :\n",
        "        bonus = 500\n",
        "    else :\n",
        "        bonus = 100\n",
        "else :\n",
        "    if yearsEmployed > 10 :\n",
        "        bonus = 300\n",
        "    else :\n",
        "        bonus = 200\n",
        "\n",
        "print(\" hourlyEmplyed:\" , hourlyEmployee, \"\\n hours: \",\n",
        "      hours, \"\\n bonus: \", bonus, \"\\n yearsEmployed:\", yearsEmployed)"
      ],
      "metadata": {
        "colab": {
          "base_uri": "https://localhost:8080/"
        },
        "id": "svbQxY_OFHOu",
        "outputId": "b82ffd3e-0d20-46f0-91fe-1b794a6ff34e"
      },
      "execution_count": 24,
      "outputs": [
        {
          "output_type": "stream",
          "name": "stdout",
          "text": [
            " hourlyEmplyed: True \n",
            " hours:  50 \n",
            " bonus:  500 \n",
            " yearsEmployed: 5\n"
          ]
        }
      ]
    },
    {
      "cell_type": "code",
      "source": [
        "number = int(input(\"enter number: \"))\n",
        "if number > 0 :\n",
        "    print(\"your number is greater than 0\")\n",
        "elif number == 0 :\n",
        "    print(\"your number is 0\")\n",
        "else :\n",
        "    print(\"Your number is less than 0\")"
      ],
      "metadata": {
        "colab": {
          "base_uri": "https://localhost:8080/"
        },
        "id": "CfVzZYJSG78b",
        "outputId": "7c6ef206-83d3-4854-b929-323226c6827d"
      },
      "execution_count": 25,
      "outputs": [
        {
          "output_type": "stream",
          "name": "stdout",
          "text": [
            "enter number: 8\n",
            "your number is greater than 0\n"
          ]
        }
      ]
    },
    {
      "cell_type": "code",
      "source": [
        "age = 11\n",
        "print('adult' if age <18 else 'minor')"
      ],
      "metadata": {
        "colab": {
          "base_uri": "https://localhost:8080/"
        },
        "id": "kkQIdiGUIYoN",
        "outputId": "5f9b4e3a-1eaa-4b98-cad4-7d2c209b7eed"
      },
      "execution_count": 26,
      "outputs": [
        {
          "output_type": "stream",
          "name": "stdout",
          "text": [
            "adult\n"
          ]
        }
      ]
    },
    {
      "cell_type": "code",
      "source": [
        "examScore = 90\n",
        "grade = 'A' if examScore > 89 else 'C'\n",
        "print(grade)"
      ],
      "metadata": {
        "colab": {
          "base_uri": "https://localhost:8080/"
        },
        "id": "0b4_zT2zJiEc",
        "outputId": "356ece2b-8489-434c-9061-a823b88aa788"
      },
      "execution_count": 28,
      "outputs": [
        {
          "output_type": "stream",
          "name": "stdout",
          "text": [
            "A\n"
          ]
        }
      ]
    },
    {
      "cell_type": "code",
      "source": [
        "timeAtSite = 3.5\n",
        "charges = 100.00 if timeAtSite < 2.0 \\\n",
        "    else timeAtSite * 50.00;\n",
        "print(charges)"
      ],
      "metadata": {
        "colab": {
          "base_uri": "https://localhost:8080/"
        },
        "id": "4FYcpMbkJgJu",
        "outputId": "9fa680a6-8eac-499b-8a7e-b9000c968c78"
      },
      "execution_count": 29,
      "outputs": [
        {
          "output_type": "stream",
          "name": "stdout",
          "text": [
            "175.0\n"
          ]
        }
      ]
    },
    {
      "cell_type": "code",
      "source": [
        "value1 = 10\n",
        "value2 = 20\n",
        "value3 = 30\n",
        "value4 = 40\n",
        "value5 = 50\n",
        "\n",
        "if value1 > value2 or value3 == 10 and value4 + 5 < value5 :\n",
        "    print(\"The expression evalutes to TRUE\")\n",
        "\n",
        "else :\n",
        "    print(\"The expression evalutes to FALSE\")"
      ],
      "metadata": {
        "colab": {
          "base_uri": "https://localhost:8080/"
        },
        "id": "tQOG9260KnEo",
        "outputId": "f62ffb92-423c-40b6-ac48-2f8f17d2ee42"
      },
      "execution_count": 30,
      "outputs": [
        {
          "output_type": "stream",
          "name": "stdout",
          "text": [
            "The expression evalutes to FALSE\n"
          ]
        }
      ]
    }
  ]
}