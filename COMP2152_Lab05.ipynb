{
  "cells": [
    {
      "cell_type": "markdown",
      "metadata": {
        "id": "view-in-github",
        "colab_type": "text"
      },
      "source": [
        "<a href=\"https://colab.research.google.com/github/Daryamn88/COMP2152/blob/main/COMP2152_Lab05.ipynb\" target=\"_parent\"><img src=\"https://colab.research.google.com/assets/colab-badge.svg\" alt=\"Open In Colab\"/></a>"
      ]
    },
    {
      "cell_type": "markdown",
      "metadata": {
        "id": "b9nlFoLzbkP2"
      },
      "source": [
        "# Menu for Python Console App"
      ]
    },
    {
      "cell_type": "markdown",
      "metadata": {
        "id": "R0I2pXQNbs8p"
      },
      "source": [
        "In the previous exercises, we have created a few functions to manage employees information such as adding new employees, and print the list of employees.\n",
        "\n",
        "In this exercise, you will practice creating a simple menu that allows users to access and select different functions or options within your application. The menu helps make the application more user-friend by providing an organized and easily navigable list of options."
      ]
    },
    {
      "cell_type": "code",
      "execution_count": null,
      "metadata": {
        "id": "V_OYli8QbsPM"
      },
      "outputs": [],
      "source": [
        "# Let review the functions we have created in lab 04 exercise.\n",
        "#Darya Mansouri\n",
        "#print employees\n",
        "#helper methods for user_input validation\n",
        "#create employees\n",
        "employees = []\n",
        "employees.append([1, \"John\", \"full-time\", 40, 15, \"ON\", 0])\n",
        "employees.append([2, \"Jane\", \"part-time\", 20, 12, \"ON\", 0])\n",
        "\n",
        "#print employees\n",
        "def print_employees():\n",
        "  print(\"Employee ID, Employee Name, Employee Type, Hours Worked, Hourly Rate, Location, Salary\")\n",
        "  for employee in employees:\n",
        "    print(str(employee[0]) + \", \" + employee[1] + \", \" + employee[2] + \", \" + str(employee[3])\n",
        "              + \", \" + str(employee[4]) + \", \" + employee[5]+ \", \" + str(employee[6]))\n",
        "\n",
        "# helper methods for user_input validation\n",
        "def get_valid_input(prompt_message):\n",
        "    while True:\n",
        "        user_input = input(prompt_message)\n",
        "        if user_input:\n",
        "            return user_input\n",
        "        print(\"Input can not be empty. Please try again.\")\n",
        "\n",
        "def get_valid_type(prompt_message, types):\n",
        "  while True:\n",
        "    user_input = input(prompt_message)\n",
        "    if user_input and user_input in types:\n",
        "      return user_input\n",
        "    print(\"Please enter one of the following value: \" + ', '.join(types))\n",
        "\n",
        "def get_valid_number(prompt_message):\n",
        "  while True:\n",
        "    user_input = input(prompt_message)\n",
        "    if user_input and user_input.isnumeric():\n",
        "      return int(user_input) # return integer\n",
        "    print(\"Please enter a number: \")\n",
        "\n",
        "#create employees\n",
        "def create_employees_validation():\n",
        "  is_continue = True\n",
        "  while is_continue:\n",
        "    employee_id = get_valid_number(\"Enter Employee ID: \")\n",
        "    employee_name = get_valid_input(\"Enter Employee Name: \")\n",
        "    employee_type = get_valid_type(\"Enter Employee Type: \", [\"full-time\", \"part-time\"])\n",
        "    employee_hours_worked = get_valid_number(\"Enter Employee Total Hours Worked: \")\n",
        "    employee_hourly_rate = get_valid_number(\"Enter Employee Hourly Rate: \")\n",
        "    employee_location = get_valid_input(\"Enter Employee Location: \")\n",
        "\n",
        "    employees.append([employee_id, employee_name, employee_type, employee_hours_worked, employee_hourly_rate, employee_location, 0])\n",
        "    print(\"Employee with ID \" + str(employee_id) + \" is succefully added.\")\n",
        "\n",
        "    user_input = input(\"Do you wish to add another employees (Y/N): \")[0].upper()\n",
        "    if user_input != \"Y\":\n",
        "      is_continue = False\n"
      ]
    },
    {
      "cell_type": "code",
      "execution_count": null,
      "metadata": {
        "id": "JYLSbNUDdHH4"
      },
      "outputs": [],
      "source": [
        "#print employees\n",
        "#helper methods for user_input validation\n",
        "#create employees"
      ]
    },
    {
      "cell_type": "code",
      "execution_count": null,
      "metadata": {
        "id": "nfbtbmQYeVfr"
      },
      "outputs": [],
      "source": [
        "# Let create a function called print_menu() to print the menu content using print() method. The menu shall have 3 options: 1 - Create Employees, 2 - Print Employees, 3 - Exit\n",
        "def print_menu():\n",
        "    # print menu\n",
        "    print(\"    ---------------------------------------------------------------------------------------    \")\n",
        "    print(\"    |                                        MENU                                         |    \")\n",
        "    print(\"    ---------------------------------------------------------------------------------------    \")\n",
        "    print(\"    |    1 - Create Employees                                                             |    \")\n",
        "    print(\"    |    2 - Print Employees                                                              |    \")\n",
        "    print(\"    |    3 - Search Employees                                                             |    \")\n",
        "    print(\"    |    4 - Exit                                                                         |    \")\n",
        "    print(\"    ---------------------------------------------------------------------------------------    \")"
      ]
    },
    {
      "cell_type": "code",
      "execution_count": null,
      "metadata": {
        "id": "SZlG2qKzehDC",
        "colab": {
          "base_uri": "https://localhost:8080/"
        },
        "outputId": "759ef903-ab19-4266-9396-6d11141c1b94"
      },
      "outputs": [
        {
          "output_type": "stream",
          "name": "stdout",
          "text": [
            "    ---------------------------------------------------------------------------------------    \n",
            "    |                                        MENU                                         |    \n",
            "    ---------------------------------------------------------------------------------------    \n",
            "    |    1 - Create Employees                                                             |    \n",
            "    |    2 - Print Employees                                                              |    \n",
            "    |    3 - Search Employees                                                             |    \n",
            "    |    4 - Exit                                                                         |    \n",
            "    ---------------------------------------------------------------------------------------    \n"
          ]
        }
      ],
      "source": [
        "print_menu()"
      ]
    },
    {
      "cell_type": "code",
      "execution_count": null,
      "metadata": {
        "id": "m23bS2j1fAb-"
      },
      "outputs": [],
      "source": [
        "# Now, let create a function called get_menu_option() to get users input for the menu options.\n",
        "# This function will prompt for users to input a number represent the menu option they would like to execute.\n",
        "# One user enters a menu option, we use a while loop to validate user input until a number within the (1, 4) range is received.\n",
        "# This function will return an integer value"
      ]
    },
    {
      "cell_type": "code",
      "source": [
        "def get_menu_option():\n",
        "  user_input = input(\"Enter user input(1,2,3,4): \")\n",
        "  while not user_input.isnumeric() or int(user_input) not in range(1,5):\n",
        "    user_input = input(\"please enter a menu option [1, 2, 3, 4]\")\n",
        "  return int(user_input)"
      ],
      "metadata": {
        "id": "kJeedRzmemt5"
      },
      "execution_count": null,
      "outputs": []
    },
    {
      "cell_type": "code",
      "source": [
        "def search_employees():\n",
        "  search_query = get_valid_input(\"Enter name to search\").lower()\n",
        "  found_employee = [emp for emp in employees if search_query in emp[1].lower()]\n",
        "\n",
        "  if found_employee:\n",
        "    print(\"Search Result:\")\n",
        "    for emp in found_employee:\n",
        "      print(f'ID: {emp[0]}, Name: {emp[1]}')\n",
        "  else:\n",
        "    print(\"No matching employee found.\")"
      ],
      "metadata": {
        "id": "w4cc-NTnlsS0"
      },
      "execution_count": null,
      "outputs": []
    },
    {
      "cell_type": "code",
      "execution_count": null,
      "metadata": {
        "id": "DtYJ4b5Tf_HX",
        "colab": {
          "base_uri": "https://localhost:8080/"
        },
        "outputId": "e5221b34-eba4-4990-cd7b-810141ef3785"
      },
      "outputs": [
        {
          "name": "stdout",
          "output_type": "stream",
          "text": [
            "    ---------------------------------------------------------------------------------------    \n",
            "    |                                        MENU                                         |    \n",
            "    ---------------------------------------------------------------------------------------    \n",
            "    |    1 - Create Employees                                                             |    \n",
            "    |    2 - Print Employees                                                              |    \n",
            "    |    3 - Search Employees                                                             |    \n",
            "    |    4 - Exit                                                                         |    \n",
            "    ---------------------------------------------------------------------------------------    \n",
            "Enter user input(1,2,3,4): 4\n"
          ]
        }
      ],
      "source": [
        "# Main flow starts here ======================================================================================\n",
        "menu_option = 0\n",
        "while menu_option !=4:\n",
        "  if menu_option == 1:\n",
        "    create_employees_validation()\n",
        "  if menu_option == 2:\n",
        "    print_employees()\n",
        "  if menu_option == 3:\n",
        "    search_employees()\n",
        "  print_menu()\n",
        "  menu_option = get_menu_option()\n"
      ]
    },
    {
      "cell_type": "code",
      "execution_count": null,
      "metadata": {
        "id": "1q0YsN4Wgtwz"
      },
      "outputs": [],
      "source": [
        "# Let create a variable call menu_option and initiate its with 0. Later on, this variable will be used to store the menu option entered by user\n",
        "# Use a while loop and if statements to navigate users to the according function until users choose to exit the program by entering value \"3\"."
      ]
    },
    {
      "cell_type": "code",
      "execution_count": null,
      "metadata": {
        "id": "zWYRWO6ceLmR"
      },
      "outputs": [],
      "source": [
        "#Add a Search Feature\n",
        "#Question: Implement a feature to search for employees by name.\n",
        "#Add a new menu option \"6 - Search Employees by Name\" that prompts the user to enter a name or part of a name.\n",
        "#The application should then display all employees whose names contain the entered string, showing their full details.\n",
        "#Consider case sensitivity and validate the input to ensure it is not empty."
      ]
    },
    {
      "cell_type": "code",
      "execution_count": null,
      "metadata": {
        "id": "FFFymJuKeLmR"
      },
      "outputs": [],
      "source": []
    },
    {
      "cell_type": "code",
      "execution_count": null,
      "metadata": {
        "id": "tDd8JB66eLmS"
      },
      "outputs": [],
      "source": []
    }
  ],
  "metadata": {
    "colab": {
      "provenance": [],
      "include_colab_link": true
    },
    "kernelspec": {
      "display_name": "Python 3",
      "name": "python3"
    },
    "language_info": {
      "name": "python"
    }
  },
  "nbformat": 4,
  "nbformat_minor": 0
}