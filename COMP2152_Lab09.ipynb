{
  "nbformat": 4,
  "nbformat_minor": 0,
  "metadata": {
    "colab": {
      "provenance": [],
      "include_colab_link": true
    },
    "kernelspec": {
      "name": "python3",
      "display_name": "Python 3"
    },
    "language_info": {
      "name": "python"
    }
  },
  "cells": [
    {
      "cell_type": "markdown",
      "metadata": {
        "id": "view-in-github",
        "colab_type": "text"
      },
      "source": [
        "<a href=\"https://colab.research.google.com/github/Daryamn88/COMP2152/blob/main/COMP2152_Lab09.ipynb\" target=\"_parent\"><img src=\"https://colab.research.google.com/assets/colab-badge.svg\" alt=\"Open In Colab\"/></a>"
      ]
    },
    {
      "cell_type": "markdown",
      "source": [
        "# This exercise will help you practice using SQLite database to store and retrieve students and course information:"
      ],
      "metadata": {
        "id": "Py94Xy1Z_ARx"
      }
    },
    {
      "cell_type": "code",
      "source": [
        "# Run the given scripts below to create a new SQLite Database called `school.db`. Alternatively,\n",
        "# you can manually create the database from SQLite GUI, then drag and drop the database to the Files section and connect to it."
      ],
      "metadata": {
        "id": "YL-_fRKU_GAX"
      },
      "execution_count": null,
      "outputs": []
    },
    {
      "cell_type": "code",
      "source": [
        "import sqlite3"
      ],
      "metadata": {
        "id": "GPlbQI9W_gtd"
      },
      "execution_count": null,
      "outputs": []
    },
    {
      "cell_type": "code",
      "source": [
        "conn = sqlite3.connect('school.db')\n",
        "c = conn.cursor()\n",
        "\n",
        "c.execute('''\n",
        "    CREATE TABLE IF NOT EXISTS students (\n",
        "        id INTEGER PRIMARY KEY,\n",
        "        name TEXT NOT NULL,\n",
        "        age INTEGER NOT NULL,\n",
        "        email TEXT NOT NULL UNIQUE\n",
        "    )\n",
        "''')\n",
        "\n",
        "c.execute('''\n",
        "    CREATE TABLE IF NOT EXISTS courses (\n",
        "        id INTEGER PRIMARY KEY,\n",
        "        name TEXT NOT NULL,\n",
        "        code TEXT NOT NULL UNIQUE,\n",
        "        description TEXT NOT NULL\n",
        "    )\n",
        "''')\n",
        "\n",
        "conn.commit()\n",
        "\n",
        "conn.close()\n"
      ],
      "metadata": {
        "id": "R3jEHINP_mWp"
      },
      "execution_count": null,
      "outputs": []
    },
    {
      "cell_type": "markdown",
      "source": [
        "## Students - Add/Get/Update/Delete Functions"
      ],
      "metadata": {
        "id": "54TDFsfGC1lS"
      }
    },
    {
      "cell_type": "code",
      "source": [
        "# function to add a new student to the database\n",
        "# function name: add_student()\n",
        "# function params: name, age, email\n",
        "# INSERT statement"
      ],
      "metadata": {
        "id": "m_U4iuux_q8_"
      },
      "execution_count": null,
      "outputs": []
    },
    {
      "cell_type": "code",
      "source": [
        "def add_student(name, age, email):\n",
        "    conn = sqlite3.connect('school.db')\n",
        "    c = conn.cursor()\n",
        "    c.execute('''INSERT INTO students (name, age, email) VALUES (?, ?, ?)''', (name, age, email,))\n",
        "\n",
        "    conn.commit()\n",
        "    conn.close()"
      ],
      "metadata": {
        "id": "E9bfy4vR_vda"
      },
      "execution_count": null,
      "outputs": []
    },
    {
      "cell_type": "code",
      "source": [
        "add_student('Darya', '22', 'darya.mansouri@georgerbrown.ca')\n",
        "add_student('Sherry', '29', 'sherry.zarei@georgebrown.ca')"
      ],
      "metadata": {
        "id": "sESmhlJeLjl4"
      },
      "execution_count": null,
      "outputs": []
    },
    {
      "cell_type": "code",
      "source": [
        "# function to get all students from the database\n",
        "# function name: get_students()\n",
        "# function params: no param needed\n",
        "# SELECT statement\n",
        "# fetchall()"
      ],
      "metadata": {
        "id": "QG8_YQrs_2Or"
      },
      "execution_count": null,
      "outputs": []
    },
    {
      "cell_type": "code",
      "source": [
        "def get_students():\n",
        "  conn = sqlite3.connect('school.db')\n",
        "  c = conn.cursor()\n",
        "  c.execute('''SELECT * FROM students''')\n",
        "  students = c.fetchall()\n",
        "  conn.close()\n",
        "  return students"
      ],
      "metadata": {
        "id": "XroCNao2_3-R"
      },
      "execution_count": null,
      "outputs": []
    },
    {
      "cell_type": "code",
      "source": [
        "get_students()"
      ],
      "metadata": {
        "colab": {
          "base_uri": "https://localhost:8080/"
        },
        "id": "PCJ4NmLeMNS_",
        "outputId": "587862f9-fcc6-44fe-9aeb-2bdf6c332fc0"
      },
      "execution_count": null,
      "outputs": [
        {
          "output_type": "execute_result",
          "data": {
            "text/plain": [
              "[(1, 'Darya', 22, 'darya.mansouri@georgerbrown.ca'),\n",
              " (2, 'Sherry', 29, 'sherry.zarei@georgebrown.ca')]"
            ]
          },
          "metadata": {},
          "execution_count": 13
        }
      ]
    },
    {
      "cell_type": "code",
      "source": [
        "# function to get student by id\n",
        "# function name: get_student_by_id()\n",
        "# function params: id\n",
        "# SELECT ... WHERE statement\n",
        "# fetchone()"
      ],
      "metadata": {
        "id": "bXffx46ADwXL"
      },
      "execution_count": null,
      "outputs": []
    },
    {
      "cell_type": "code",
      "source": [
        "def get_student_by_id(id):\n",
        "  conn = sqlite3.connect('school.db')\n",
        "  c = conn.cursor()\n",
        "  c.execute('''SELECT * FROM students WHERE id=?''', (id,))\n",
        "  student = c.fetchone()\n",
        "  conn.close()\n",
        "  return student"
      ],
      "metadata": {
        "id": "eUd2pmicDwwx"
      },
      "execution_count": null,
      "outputs": []
    },
    {
      "cell_type": "code",
      "source": [
        "get_student_by_id(1)"
      ],
      "metadata": {
        "colab": {
          "base_uri": "https://localhost:8080/"
        },
        "id": "DWzTi8qzNHyW",
        "outputId": "66d90b9a-0af2-4de1-afa2-c27e46631969"
      },
      "execution_count": null,
      "outputs": [
        {
          "output_type": "execute_result",
          "data": {
            "text/plain": [
              "(1, 'Darya', 22, 'darya.mansouri@georgerbrown.ca')"
            ]
          },
          "metadata": {},
          "execution_count": 24
        }
      ]
    },
    {
      "cell_type": "code",
      "source": [
        "# function to update a student in the database\n",
        "# function name: update_student()\n",
        "# function params: id, name, age, email\n",
        "# UPDATE statement"
      ],
      "metadata": {
        "id": "iuDodizd_79h"
      },
      "execution_count": null,
      "outputs": []
    },
    {
      "cell_type": "code",
      "source": [
        "def update_student(id, name, age, email):\n",
        "  conn = sqlite3.connect('school.db')\n",
        "  c = conn.cursor()\n",
        "  c.execute('''UPDATE students SET name=?, age=?, email=? WHERE id=?''', (name, age, email, id,))\n",
        "  conn.commit()\n",
        "  conn.close()"
      ],
      "metadata": {
        "id": "3WHNhed-_-5g"
      },
      "execution_count": null,
      "outputs": []
    },
    {
      "cell_type": "code",
      "source": [
        "update_student(2, 'sherry', 30, 'sherry@gmail.com')"
      ],
      "metadata": {
        "id": "gb7fnSCwN4wt"
      },
      "execution_count": null,
      "outputs": []
    },
    {
      "cell_type": "code",
      "source": [
        "get_students()"
      ],
      "metadata": {
        "colab": {
          "base_uri": "https://localhost:8080/"
        },
        "id": "dWMWSIEzQTH7",
        "outputId": "c8ec1743-05d6-46d2-821e-2dbdbada4705"
      },
      "execution_count": null,
      "outputs": [
        {
          "output_type": "execute_result",
          "data": {
            "text/plain": [
              "[(1, 'Darya', 22, 'darya.mansouri@georgerbrown.ca'),\n",
              " (2, 'sherry', 30, 'sherry@gmail.com')]"
            ]
          },
          "metadata": {},
          "execution_count": 29
        }
      ]
    },
    {
      "cell_type": "code",
      "source": [
        "# function to delete a student from the database\n",
        "# function name: delete_student()\n",
        "# function params: id\n",
        "# DELETE statement"
      ],
      "metadata": {
        "id": "r7eZ4jPJACFk"
      },
      "execution_count": null,
      "outputs": []
    },
    {
      "cell_type": "code",
      "source": [
        "def delete_student(id):\n",
        "    conn = sqlite3.connect('school.db')\n",
        "    c = conn.cursor()\n",
        "    c.execute('''DELETE FROM students WHERE id=?''', (id,))\n",
        "    conn.commit()\n",
        "    conn.close()"
      ],
      "metadata": {
        "id": "XPBtoi6DN58B"
      },
      "execution_count": null,
      "outputs": []
    },
    {
      "cell_type": "code",
      "source": [
        "delete_student(2)"
      ],
      "metadata": {
        "id": "_sAIfxWQQfWS"
      },
      "execution_count": null,
      "outputs": []
    },
    {
      "cell_type": "code",
      "source": [
        "get_students()"
      ],
      "metadata": {
        "colab": {
          "base_uri": "https://localhost:8080/"
        },
        "id": "shSXS1BHSDtZ",
        "outputId": "c0fce61d-0334-43dd-d528-d79ab4656f7f"
      },
      "execution_count": null,
      "outputs": [
        {
          "output_type": "execute_result",
          "data": {
            "text/plain": [
              "[(1, 'Darya', 22, 'darya.mansouri@georgerbrown.ca')]"
            ]
          },
          "metadata": {},
          "execution_count": 40
        }
      ]
    }
  ]
}